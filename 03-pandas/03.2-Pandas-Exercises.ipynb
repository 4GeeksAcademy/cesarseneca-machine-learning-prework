{
 "cells": [
  {
   "cell_type": "markdown",
   "metadata": {},
   "source": [
    "# Pandas Exercises\n",
    "\n",
    "| Exercise name         | Description                   | Start in Codespace    |\n",
    "| --------------------- | ----------------------------- |  ----------------- | \n",
    "| Intro to pandas       | for beginners                 | [start in gitpod](https://gitpod.io#https://github.com/4GeeksAcademy/python-pandas-tutorial) |\n",
    "\n",
    "Note: these exercises were built based on other sources form the internet and internally, here is a great [repostiory of exercises to continue practicing](https://github.com/guipsamora/pandas_exercises)."
   ]
  }
 ],
 "metadata": {
  "language_info": {
   "name": "python"
  },
  "orig_nbformat": 4
 },
 "nbformat": 4,
 "nbformat_minor": 2
}
