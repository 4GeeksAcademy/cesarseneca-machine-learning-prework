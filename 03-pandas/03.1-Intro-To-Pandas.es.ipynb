{
 "cells": [
  {
   "attachments": {},
   "cell_type": "markdown",
   "id": "bdfbcacc",
   "metadata": {},
   "source": [
    "![alt text](https://github.com/4GeeksAcademy/machine-learning-prework/blob/main/03-pandas/assets/pandas_logo.jpg?raw=true)\n",
    "\n",
    "\n",
    "\n",
    "## Indroducción a Pandas\n",
    "\n",
    "Pandas es una herramienta de análisis y manipulación de datos de código abierto, rápida, potente, flexible y fácil de usar; construido sobre el lenguaje de programación Python.\n",
    "\n",
    "## ¿Qué es Pandas?\n",
    "\n",
    "Pandas es una librería Python utilizada para trabajar con conjuntos de datos (data sets).\n",
    "\n",
    "Tiene funciones para analizar, limpiar, explorar y manipular datos.\n",
    "\n",
    "El nombre \"Pandas\" hace referencia tanto a \"Panel Data\" como a \"Python Data Analysis\" y fue creado por Wes McKinney en 2008.\n",
    "\n",
    "## Instalando Pandas\n",
    "\n",
    "Cuando quieras trabajar con Pandas localmente, debes correr los siguientes comandos:\n",
    "\n",
    "`pip install pandas`\\\n",
    "o\\\n",
    "`conda install pandas`\n",
    "\n",
    "En nuestro caso, 4Geeks ha preparado todo el entorno de manera que puedas trabajar cómodamente.\n",
    "\n"
   ]
  },
  {
   "cell_type": "markdown",
   "id": "60e5d082",
   "metadata": {},
   "source": [
    "## ¿Por qué usar Pandas?\n",
    "\n",
    "Pandas nos permite analizar grandes cantidades de datos (big data) y sacar conclusiones basadas en teorías estadísticas. Puede limpiar data sets desordenados, y hacerlos legibles, relevantes y claros. Los datos relevantes son muy importantes en la ciencia de datos.\n",
    "\n",
    "Pero la razón principal es que Pandas te permite trabajar con una nueva estructura de datos: \"dataframes\" (marcos de datos)\n",
    "\n",
    "Un dataframe es una estructura de datos bidimensional, en la cual los datos de diferentes tipos (como caracteres, enteros, valores de punto flotante, factores y más) pueden ser almacenados en columnas. Es similar a una hoja de cálculo SQL o una tabla de Excel. Un marco de datos siempre tiene un índice (que comienza en 0), que se refiere a la posición de un elemento dentro de la estructura de datos.\n",
    "\n",
    ">Pandas proporciona herramientas que permiten:\n",
    "\n",
    "- Leer y escribir datos en diferentes formatos: CSV, Microsoft Excel, bases de datos SQL y  formato HDF5.\n",
    "\n",
    "- Seleccionar y filtar facilmente tablas de datos basadas en posición, valor o etiquetas.\n",
    "\n",
    "- Fusionar y unir datos.\n",
    "\n",
    "- Manipular series de tiempo.\n",
    "\n",
    "- Hacer gráficos (plots).\n",
    "\n",
    ">En Pandas hay tres tipos básicos de objetos, todos ellos basados ​​en Numpy:\n",
    "\n",
    "- Series (listas 1D).\n",
    "\n",
    "- DataFrame (tablas 2D).\n",
    "\n",
    "- Panels (tablas 3D)."
   ]
  },
  {
   "cell_type": "markdown",
   "id": "c4e52ee5",
   "metadata": {},
   "source": [
    "#### Ejercicio: Importa el paquete Pandas bajo el nombre `pd` (★☆☆)\n",
    "\n",
    "Para importar una nueva biblioteca en Python, debemos usar la instrucción 'import' (importar) de esta manera: `import <library_name> as <your_alias>`.\n",
    "\n",
    "Usa la instrucción `import` en Python para impotar el módulo de Pandas bajo el alias `pd`. \n",
    "\n",
    "Si quieres estar seguro de que la biblioteca se importó correctamente, recuerda que puedes desplegar la versión de cualquier biblioteca de Python con: `name_of_package.__version__`"
   ]
  },
  {
   "cell_type": "code",
   "execution_count": null,
   "id": "ea3038d9",
   "metadata": {},
   "outputs": [],
   "source": [
    "import pandas as pd\n",
    "import numpy as np"
   ]
  },
  {
   "attachments": {},
   "cell_type": "markdown",
   "id": "40631cd6",
   "metadata": {},
   "source": [
    "## Tipos de datos Pandas\n",
    "\n",
    "Pandas tiene tres estructuras de datos diferentes:\n",
    "\n",
    "- Series: Estructura unidimensional.\n",
    "- DataFrame: Estructura bidimensional (tablas).\n",
    "- Panel: Estructura tridimensional (cubos y menos usados).\n",
    "\n",
    "Estas estructuras son construidas a partir de arrays de la biblioteca Numpy, agregando nuevas funcionalidades.\n",
    "\n",
    "\n",
    "\n",
    "<img src=\"https://github.com/4GeeksAcademy/machine-learning-prework/blob/main/03-pandas/assets/series_dataframe.png?raw=true\" width=\"600\"/>\n"
   ]
  },
  {
   "cell_type": "markdown",
   "id": "2060325e",
   "metadata": {},
   "source": [
    "## Creación de objetos\n",
    "\n",
    "Creando una serie pasando una lista de valores, permitiendo a Pandas crear un índice entero predeterminado:"
   ]
  },
  {
   "cell_type": "code",
   "execution_count": null,
   "id": "2a9f5838",
   "metadata": {},
   "outputs": [],
   "source": [
    "s = pd.Series([1, 3, 5, np.nan, 6, 8])"
   ]
  },
  {
   "cell_type": "markdown",
   "id": "e3c20b3d",
   "metadata": {},
   "source": [
    "En el ejercicio anterior, hemos creado una serie Pandas (un vector o un array unidimensional) a partir una lista. \n",
    "\n",
    "En el siguiente ejercicio, te pedimos que crees un vector unidimensional, pero esta vez a partir de otra estructura Python.\n",
    "\n",
    "#### Ejercicio: Crea una serie Pandas a partir de cada uno de los elementos a continuación: una lista, Numpy y un diccionario (★☆☆)"
   ]
  },
  {
   "cell_type": "code",
   "execution_count": null,
   "id": "8a758bcf",
   "metadata": {},
   "outputs": [],
   "source": []
  },
  {
   "cell_type": "markdown",
   "id": "0a708990",
   "metadata": {},
   "source": [
    "#### Ejercicio: Ahora, intenta crear un `dataframe` (marco de datos) de una columna de una serie Pandas (★☆☆)\n",
    "\n",
    ">Chequea la función: `to_frame` (https://pandas.pydata.org/docs/reference/api/pandas.Series.to_frame.html)"
   ]
  },
  {
   "cell_type": "code",
   "execution_count": null,
   "id": "477e01f4",
   "metadata": {},
   "outputs": [],
   "source": []
  },
  {
   "cell_type": "markdown",
   "id": "0b16cd77",
   "metadata": {},
   "source": [
    "#### Ejercicio: ¿Cómo combinar muchas series para formar un dataframe? (★☆☆)\n",
    "\n",
    "Crea dos series con los nombres `ser1` y `ser2` para formar un dataframe. Es decir, un dataframe de dos columnas de las series `ser1` y `ser2`."
   ]
  },
  {
   "cell_type": "code",
   "execution_count": null,
   "id": "fd3ab1c1",
   "metadata": {},
   "outputs": [],
   "source": []
  },
  {
   "cell_type": "code",
   "execution_count": null,
   "id": "4d9b5975",
   "metadata": {},
   "outputs": [],
   "source": [
    "# Input\n",
    "\n",
    "ser1 = pd.Series([1, 2, 3, 4, 5])\n",
    "ser2 = pd.Series([4, 5, 6, 7, 8]) \n"
   ]
  },
  {
   "cell_type": "markdown",
   "metadata": {},
   "source": [
    "#### Ejercicio: ¿Cómo convertir un Numpy array en un dataframe de una forma dada? (★☆☆)\n",
    "\n",
    "Reforma una serie aleatoria en un dataframe con 7 filas y 5 columnas. En este ejercicio, debes crear un array unidimensional de longitud 35 y luego deberás convertir ese array en un dataframe."
   ]
  },
  {
   "cell_type": "code",
   "execution_count": null,
   "id": "acb16e04",
   "metadata": {},
   "outputs": [],
   "source": []
  },
  {
   "cell_type": "markdown",
   "id": "a43bd7e6",
   "metadata": {},
   "source": [
    "#### Ejercicio: Cómo extraer elementos en posiciones dadas de una serie (★☆☆)\n",
    "Tu también puedes crear series y dataframes que contengan `strings` (cadenas).  De la siguiente serie de Pandas ``ser``, extrae los elementos en las posiciones de la lista `pos`. \n",
    "\n",
    ">Chequea `take` de Pandas: (https://pandas.pydata.org/docs/reference/api/pandas.DataFrame.take.html)"
   ]
  },
  {
   "cell_type": "code",
   "execution_count": null,
   "id": "6e72cfd0",
   "metadata": {},
   "outputs": [],
   "source": [
    "# Input\n",
    "ser = pd.Series(list('abcdefghijklmnopqrstuvwxyz'))\n",
    "pos = [0, 4, 8, 14, 20]"
   ]
  },
  {
   "cell_type": "markdown",
   "id": "db1571ea",
   "metadata": {},
   "source": [
    "#### Ejercicio:  ¿Cómo apilar dos series vertical y horizontalmente?\n",
    "\n",
    "Crea dos series `ser1` y `ser2` y apílalos vertical y horizontalmente (para formar un dataframe).\n",
    "\n",
    "> Chequea `concatenate` de Pandas: (https://pandas.pydata.org/docs/reference/api/pandas.concat.html)"
   ]
  },
  {
   "cell_type": "code",
   "execution_count": null,
   "id": "74023a53",
   "metadata": {},
   "outputs": [],
   "source": []
  },
  {
   "cell_type": "markdown",
   "id": "13c5928c",
   "metadata": {},
   "source": [
    "#### Ejercicio: ¿Cómo obtener las posiciones de los `items` (elementos) de la serie A en otra serie B? (★★☆)\n",
    "\n",
    "Obtén las posiciones de los elementos de `ser2` en `ser1` como una lista. \n",
    "\n",
    "> Nota: Recuerda la función `where` de Numpy (https://numpy.org/devdocs/reference/generated/numpy.where.html)"
   ]
  },
  {
   "cell_type": "code",
   "execution_count": null,
   "id": "09b20acc",
   "metadata": {},
   "outputs": [],
   "source": []
  },
  {
   "cell_type": "markdown",
   "id": "436ffe64",
   "metadata": {},
   "source": [
    "#### Ejercicios: ¿Cómo obtener los elementos que no son comunes tanto para la serie A como para la serie B? (★☆☆)\n",
    "\n",
    "Extrae los elementos que no son comunes de las series `ser1` y `ser2` que definimos a continuación.\n",
    "\n",
    ">Chequea las funciones `union1d` y `intersect1d` de Numpy: https://numpy.org/doc/stable/reference/generated/numpy.union1d.html y https://numpy.org/doc/stable/reference/generated/numpy.intersect1d.html.\n",
    "\n",
    "Nota: Recuerda que **Numpy y Pandas trabajan juntos**"
   ]
  },
  {
   "cell_type": "code",
   "execution_count": null,
   "id": "5dbe1a08",
   "metadata": {},
   "outputs": [],
   "source": [
    "# Input\n",
    "\n",
    "ser1 = pd.Series([1, 2, 3, 4, 5])\n",
    "ser2 = pd.Series([4, 5, 6, 7, 8]) "
   ]
  },
  {
   "cell_type": "markdown",
   "id": "c97757ec",
   "metadata": {},
   "source": [
    "#### Ejercicio: ¿Cómo calcular la diferencia de diferencias entre números consecutivos de una serie? (★★☆)\n",
    "\n",
    "Diferencia de diferencias entre los números consecutivos de `ser`."
   ]
  },
  {
   "cell_type": "code",
   "execution_count": null,
   "id": "911c9b93",
   "metadata": {},
   "outputs": [],
   "source": [
    "## Input\n",
    "ser = pd.Series([1, 3, 6, 10, 15, 21, 27, 35])\n",
    "\n",
    "## Output should be like following\n",
    "# [nan, 2.0, 3.0, 4.0, 5.0, 6.0, 6.0, 8.0]\n",
    "# [nan, nan, 1.0, 1.0, 1.0, 1.0, 0.0, 2.0]"
   ]
  },
  {
   "cell_type": "markdown",
   "id": "ff8dbb92",
   "metadata": {},
   "source": [
    "## Aplicar funciones a una serie.\n",
    "\n",
    "También es posible aplicar una función a cada elemento de la serie usando el siguiente método:\n",
    "\n",
    "`s.apply(f)`: Devuelve una serie con el resultado de aplicar la función f a cada uno de los elementos de la serie s.\n",
    "\n",
    "### Ejemplo:\n",
    "```\n",
    "import pandas as pd\n",
    "from math import log\n",
    "s = pd.Series([1, 2, 3, 4])\n",
    "s.apply(log)\n",
    "```"
   ]
  },
  {
   "cell_type": "markdown",
   "id": "e3a7ba7f",
   "metadata": {},
   "source": [
    "#### Ejercicio: Convierte todos los valores de una serie Pandas de strings a `upper` (mayúsculas) (★☆☆)\n",
    "\n",
    "Tienes que crear una serie de strings con valores aleatorios y luego convertir cada string a letras mayúsculas.\n",
    "\n",
    "> Chequea `upper` en Pandas: (https://pandas.pydata.org/docs/reference/api/pandas.Series.str.upper.html)"
   ]
  },
  {
   "cell_type": "code",
   "execution_count": null,
   "id": "01d8e257",
   "metadata": {},
   "outputs": [],
   "source": []
  },
  {
   "cell_type": "markdown",
   "id": "6d17ab5d",
   "metadata": {},
   "source": [
    "#### Ejercicio: Consigue todos los valores mayores a 5 de una serie Pandas (★☆☆)\n",
    "\n",
    "Recuerda que puedes crear series y dataframes de diccionarios. En este ejercicio vas a tener que conseguir todos los valores mayores a 5."
   ]
  },
  {
   "cell_type": "code",
   "execution_count": null,
   "id": "841373cd",
   "metadata": {},
   "outputs": [],
   "source": [
    "## Input\n",
    "s = pd.Series({'Math': 6.0,  'Economy': 4.5, 'Programming': 8.5})"
   ]
  },
  {
   "cell_type": "markdown",
   "id": "8837119b",
   "metadata": {},
   "source": [
    "#### Ejercicio: Ordena una serie. Ordena la serie del ejercicio anterior en orden ascendente y descendente (★☆☆)\n",
    "\n",
    "Los siguientes métodos se utilizan para ordenar una serie:\n",
    "\n",
    "`s.sort_values (ascending = Boolean)`: Devuelve la serie que resulta de ordenar los valores de la serie s. Si el argumento del parámetro ascendente es Verdadero el orden es creciente y si es Falso es decreciente.\n",
    "\n",
    "`df.sort_index (ascending = Boolean)`: Devuelve la serie que resulta de ordenar el índice de la serie s. Si el argumento del parámetro ascendente es Verdadero el orden es creciente y si es Falso, decreciente."
   ]
  },
  {
   "cell_type": "markdown",
   "id": "ec788c9f",
   "metadata": {},
   "source": [
    "#### Ejercicio: Elimina los valores desconocidos (`NA`) en una serie. Elimina los valores NA de la serie.\n",
    "\n",
    "Los datos desconocidos se representan en Pandas por `NaN` y `null`. Ambos suelen ser un problema a la hora de realizar algún análisis de datos, por lo que es común eliminarlos. Para eliminarlos de una serie se utiliza el siguiente método:\n",
    "\n",
    "`s.dropna ()`: Elimina los datos desconocidos o nulos (null) de la serie s."
   ]
  },
  {
   "cell_type": "code",
   "execution_count": null,
   "id": "0a4f919f",
   "metadata": {},
   "outputs": [],
   "source": [
    "## Input\n",
    "import pandas as pd\n",
    "import numpy as np\n",
    "s = pd.Series(['a', 'b', None, 'c', np.NaN,  'd'])"
   ]
  },
  {
   "attachments": {},
   "cell_type": "markdown",
   "id": "391791e0",
   "metadata": {},
   "source": [
    "## La clase de objeto DataFrame\n",
    "\n",
    "Un objeto de tipo Dataframe define un conjunto de datos estructurados en forma de tabla donde cada columna es un objeto de tipo Series, es decir, todos los datos en la misma columna son del mismo tipo, y las filas son registros que pueden contener datos de diferentes tipos.\n",
    "\n",
    "Un Dataframe contiene dos índices, uno para las filas y uno para las columnas, y sus elementos pueden ser accesados por los nombres de las filas y columnas.\n",
    "\n",
    "Ejemplo: El siguiente dataframe contiene información sobre los estudiantes de un curso. Cada fila corresponde a un estudiante y cada columna a una variable.\n",
    "\n",
    "![alt text](https://github.com/4GeeksAcademy/machine-learning-prework/blob/main/03-pandas/assets/df.png?raw=true \"df\")\n"
   ]
  },
  {
   "cell_type": "markdown",
   "id": "7c2e563a",
   "metadata": {},
   "source": [
    "## Creando un DataFrame a partir de un archivo CSV o Excel\n",
    "\n",
    "Dependiendo del tipo de archivo, hay diferentes funciones para importar un Dataframe desde un archivo.\n",
    "\n",
    "\n",
    "- `read_csv`: Devuelve un objeto de tipo DataFrame con los datos del archivo CSV (file.csv) utilizando como separador de datos el separador de strings (cadenas).\n",
    "\n",
    "- `read_excel`: Devuelve un objeto de tipo Dataframe con los datos de la hoja de cálculo del archivo de Excel (file.xlsx).\n"
   ]
  },
  {
   "cell_type": "markdown",
   "id": "50a54d72",
   "metadata": {},
   "source": [
    "## El Dataset Titánico\n",
    "\n",
    "El dataset Titánico es famoso y \"gracioso\" en el área de la ciencia de datos. Es comunmente usado para principiantes con el propósito de saber cómo ajustar un modelo de Machine Learning. La competencia es simple: usa Machine Learning para crear un modelo que prediga qué pasajeros sobrevivieron al naufragio del Titanic.\n",
    "\n",
    "El dataset consiste de las siguientes variables.\n",
    "\n",
    "\n",
    "| Variable | Definición                                 | Código                                         |\n",
    "|----------|--------------------------------------------|------------------------------------------------|\n",
    "| survival | Supervivencia                              | 0 = No, 1 = Si                                 |\n",
    "| pclass   | Clase de boleto                            | 1 = 1ra, 2 = 2da, 3 = 3ra                      |\n",
    "| sex      | Sexo                                       |                                                |\n",
    "| Age      | Edad en años                               |                                                |\n",
    "| sibsp    | # de hermanos / esposos a bordo del Titanic |                                                |\n",
    "| parch    | # de padres / hijos a bordo del Titanic |                                                |\n",
    "| ticket   | Número del ticket                              |                                                |\n",
    "| fare     | Tarifa del pasajero                             |                                                |\n",
    "| cabin    | Número de cabina                               |                                                |\n",
    "| embarked | Puerto de embarque                        | C = Cherbourg, Q = Queenstown, S = Southampton |\n",
    "\n",
    "\n",
    "En el siguiente ejercicio tendrás que obtener algunas perspectivas sobre este dataset. Una perspectiva es solo información derivada que puedes obtener de un dataset como, por ejemplo, la media de la edad."
   ]
  },
  {
   "cell_type": "markdown",
   "id": "1e74d39e",
   "metadata": {},
   "source": [
    "#### Ejercicio: Lee los datos `titanic_train.csv` ubicados en la carpeta de `assets` (activos) (★☆☆)"
   ]
  },
  {
   "cell_type": "code",
   "execution_count": null,
   "id": "3f639d33",
   "metadata": {},
   "outputs": [],
   "source": []
  },
  {
   "cell_type": "markdown",
   "id": "78250c14",
   "metadata": {},
   "source": [
    "#### Ejercicios: Exportar archivo. Exporta el DataFrame anterior separado por punto y coma (;) y asígnale el nombre\" `your_name.txt`\" (★☆☆)\n",
    "\n",
    "También hay funciones para exportar un DataFrame a un archivo con diferentes formatos.\n",
    "\n",
    "- `df.to_csv (file.csv, sep = separator, columns = Boolean, index = Boolean)`: Exporta el DataFrame (df) al archivo file.csv en formato CSV usando el separator string (cadena separadora) como separador de datos.\n",
    "\n",
    "- `df.to_excel (file.xlsx, sheet_name = sheet, columns = Boolean, index = Boolean)`: Exporta el DataFrame (df) a la hoja de cálculo del archivo file.xlsx en formato Excel."
   ]
  },
  {
   "cell_type": "code",
   "execution_count": null,
   "id": "9fe729cb",
   "metadata": {},
   "outputs": [],
   "source": []
  },
  {
   "cell_type": "markdown",
   "id": "51898680",
   "metadata": {},
   "source": [
    "## Atributos de un DataFrame\n",
    "\n",
    "Hay varias propiedades o métodos para visualizar las características de un DataFrame.\n",
    "\n",
    "- `df.info()`: Devuelve información (número de filas, número de columnas, índices, tipo de columnas y memoria utilizada) sobre el DataFrame df.\n",
    "\n",
    "- `df.shape`: Devuelve una tupla con el número de filas y columnas del DataFrame df.\n",
    "\n",
    "- `df.size`: Devuelve el número de elementos en el DataFrame.\n",
    "\n",
    "- `df.columns`: Devuelve una lista con los nombres de las columnas del DataFrame df.\n",
    "\n",
    "- `df.index`: Devuelve una lista con los nombres de las filas en el DataFrame df.\n",
    "\n",
    "- `df.dtypes`: Devuelve una serie con los tipos de datos de las columnas del DataFrame df.\n",
    "\n",
    "- `df.head(n)`: Devuelve las primeras n filas del DataFrame df.\n",
    "\n",
    "- `df.tail(n)`: Devuelve las últimas n filas del DataFrame df."
   ]
  },
  {
   "cell_type": "markdown",
   "id": "89e78048",
   "metadata": {},
   "source": [
    "#### Ejercicio: Lee el DataFrame exportado como \"`your_name.txt`\" e imprime todos los atributos anteriores tomando `n = 10` (★☆☆)"
   ]
  },
  {
   "cell_type": "code",
   "execution_count": null,
   "id": "b62e9d1c",
   "metadata": {},
   "outputs": [],
   "source": []
  },
  {
   "cell_type": "markdown",
   "id": "ebd10810",
   "metadata": {},
   "source": [
    "#### Ejercicio: Cambie el nombre de las columnas del DataFrame anterior utilizando dos métodos diferentes (★★☆) \n",
    "\n",
    ">Chequea la función `rename`: (https://pandas.pydata.org/docs/reference/api/pandas.DataFrame.rename.html) \n",
    "\n",
    "Nota: Recuerda que puedes obtener el nombre de las columnas usando `df.columns`."
   ]
  },
  {
   "cell_type": "code",
   "execution_count": null,
   "id": "6ada209f",
   "metadata": {},
   "outputs": [],
   "source": []
  },
  {
   "cell_type": "markdown",
   "id": "c0e940f8",
   "metadata": {},
   "source": [
    "#### Ejercicio: Cambia el índice del DataFrame anterior usando dos métodos diferentes (★★☆) \n",
    "\n",
    ">Chequea `iloc`: (https://pandas.pydata.org/docs/reference/api/pandas.DataFrame.iloc.html)"
   ]
  },
  {
   "cell_type": "code",
   "execution_count": null,
   "id": "820dc7a5",
   "metadata": {},
   "outputs": [],
   "source": []
  },
  {
   "cell_type": "markdown",
   "id": "22713c3f",
   "metadata": {},
   "source": [
    "#### Ejercicio: Obtén la posición (3,5) del dataframe `your_name.txt` (★☆☆)"
   ]
  },
  {
   "cell_type": "code",
   "execution_count": null,
   "id": "a3e05c29",
   "metadata": {},
   "outputs": [],
   "source": []
  },
  {
   "cell_type": "markdown",
   "id": "4815930e",
   "metadata": {},
   "source": [
    "#### Ejercicio: Obtén el décimo valor de la columna \"Ticket\" del DataFrame `your_name.txt`  (★☆☆)"
   ]
  },
  {
   "cell_type": "code",
   "execution_count": null,
   "id": "cd81c3c6",
   "metadata": {},
   "outputs": [],
   "source": []
  },
  {
   "cell_type": "markdown",
   "id": "8e34f294",
   "metadata": {},
   "source": [
    "#### Ejercicio: Añade columnas a un DataFrame. Crea un array y una lista aleatoria, agrégalos al DataFrame proveniente de `your_name.txt` (★☆☆)\n",
    "\n",
    "\n",
    "El procedimiento para agregar una nueva columna a un DataFrame es similar a agregar un nuevo par a un diccionario, pero pasando los valores de la columna en una lista o serie."
   ]
  },
  {
   "cell_type": "code",
   "execution_count": null,
   "id": "890bde78",
   "metadata": {},
   "outputs": [],
   "source": []
  },
  {
   "cell_type": "markdown",
   "id": "759c9c8d",
   "metadata": {},
   "source": [
    "#### Ejercicio: Crea o separa un Dataframe. Separa el Dataframe proveniente de `your_name.txt` por registros masculinos, utilizando dos métodos distintos (★★☆)\n",
    "Recuerda la función `where` de `numpy`"
   ]
  },
  {
   "cell_type": "code",
   "execution_count": null,
   "id": "6801c73d",
   "metadata": {},
   "outputs": [],
   "source": []
  },
  {
   "cell_type": "markdown",
   "id": "129c342d",
   "metadata": {},
   "source": [
    "## Resumen descriptivo de un DataFrame\n",
    "\n",
    "En cuanto a los strings, los siguientes métodos te permiten resumir la información en un DataFrame por columnas:\n",
    "\n",
    "- `df.count()`: Devuelve una serie de elementos que no son nulos o NaN en cada columna del DataFrame df.\n",
    "\n",
    "- `df.sum()`: Devuelve una serie con la suma de los datos de las columnas del DataFrame df cuando los datos son de tipo numérico, o la concatenación de los mismos cuando son de tipo string str.\n",
    "\n",
    "- `df.cumsum()`: Devuelve un DataFrame con la suma acumulada de los datos en las columnas del DataFrame df cuando los datos son de tipo numérico.\n",
    "\n",
    "- `df.min()`: Devuelve una serie con los menores de los datos de las columnas del DataFrame df.\n",
    "\n",
    "- `df.max()`: Devuelve una serie con el mayor de los datos en las columnas del DataFrame df.\n",
    "\n",
    "- `df.mean()`: Devuelve una serie con la media de los datos de las columnas del DataFrame df cuando los datos son de tipo numérico.\n",
    "\n",
    "- `df.std()`: Devuelve una serie con las desviaciones estándar de los datos en las columnas del DataFrame df cuando los datos son de tipo numérico.\n",
    "\n",
    "- `df.describe(include = type)`: Devuelve un DataFrame con un resumen estadístico de las columnas del DataFrame df de tipo type. Para datos numéricos (number), se calcula la media, la desviación estándar, el mínimo, el máximo y los cuartiles de las columnas numéricas. Para datos no numéricos (objeto) se calcula el número de valores, el número de valores distintos, la moda y su frecuencia. Si no se indica el tipo, solo se consideran las columnas numéricas."
   ]
  },
  {
   "cell_type": "markdown",
   "id": "25ab9cc1",
   "metadata": {},
   "source": [
    "#### Ejercicio: Has una descripción del dataset `your_name.txt` (★☆☆)"
   ]
  },
  {
   "cell_type": "code",
   "execution_count": null,
   "id": "8ba1badb",
   "metadata": {},
   "outputs": [],
   "source": []
  },
  {
   "cell_type": "markdown",
   "id": "42f8b2f9",
   "metadata": {},
   "source": [
    "#### Ejercicio: Elimine la columna Ticket de tu DataFrame (★☆☆)"
   ]
  },
  {
   "cell_type": "code",
   "execution_count": null,
   "id": "eb8ebe45",
   "metadata": {},
   "outputs": [],
   "source": []
  },
  {
   "cell_type": "markdown",
   "id": "486df8ea",
   "metadata": {},
   "source": [
    "#### Ejercicio: Ordena el DataFrame por la columna Edad  (★★☆)\n",
    "\n",
    ">Chequea las funciones: `df.sort_values` and `df.sort_index`"
   ]
  },
  {
   "cell_type": "code",
   "execution_count": null,
   "id": "34b4fa08",
   "metadata": {},
   "outputs": [],
   "source": []
  },
  {
   "cell_type": "markdown",
   "id": "649e89f9",
   "metadata": {},
   "source": [
    "#### Ejercicio: Elimina las filas de tu Dataframe que contienen valores na (★★☆)"
   ]
  },
  {
   "cell_type": "code",
   "execution_count": null,
   "id": "663cc611",
   "metadata": {},
   "outputs": [],
   "source": []
  },
  {
   "cell_type": "markdown",
   "id": "3421e17f",
   "metadata": {},
   "source": [
    "#### Ejercicio: Separa las filas donde los valores de edad son mayores que 18 (★★☆)"
   ]
  },
  {
   "cell_type": "code",
   "execution_count": null,
   "id": "7336b8e4",
   "metadata": {},
   "outputs": [],
   "source": []
  },
  {
   "cell_type": "markdown",
   "id": "483dd554",
   "metadata": {},
   "source": [
    "#### Ejercicio: Separa las filas donde los valores de Edad son mayores que 18 y menores que 5 y obtén el número de filas (★★☆)"
   ]
  },
  {
   "cell_type": "code",
   "execution_count": null,
   "id": "c89b93e7",
   "metadata": {},
   "outputs": [],
   "source": []
  },
  {
   "cell_type": "markdown",
   "id": "2d07be1c",
   "metadata": {},
   "source": [
    "#### Ejercicio: Normalizar la columna Edad (★★☆)\n",
    "\n",
    "Nota: Recuerda de probabilidad (https://en.wikipedia.org/wiki/Normalization_(statistics) que :\n",
    "\n",
    "$$ x_{norm} = \\frac{x - \\bar{x}}{\\sigma}$$"
   ]
  },
  {
   "cell_type": "code",
   "execution_count": null,
   "id": "4f7cb3ad",
   "metadata": {},
   "outputs": [],
   "source": []
  },
  {
   "cell_type": "markdown",
   "id": "fe043549",
   "metadata": {},
   "source": [
    "#### Ejercicio: Considera dos arrays aleatorios A y B, verifica si son iguales (★★☆)"
   ]
  },
  {
   "cell_type": "code",
   "execution_count": null,
   "id": "3326a686",
   "metadata": {},
   "outputs": [],
   "source": []
  },
  {
   "cell_type": "markdown",
   "id": "2002cb03",
   "metadata": {},
   "source": [
    "#### Ejercicio: ¿Cómo establecer el número de filas y columnas que se muestran en la salida? (★★★)\n",
    "\n",
    ">Chequea la función `set_option` de Pandas"
   ]
  },
  {
   "cell_type": "code",
   "execution_count": null,
   "id": "58be72bc",
   "metadata": {},
   "outputs": [],
   "source": []
  },
  {
   "cell_type": "markdown",
   "id": "b7109c9f",
   "metadata": {},
   "source": [
    "#### Ejercicio: ¿Cómo unir dos DataFrames por 2 columnas para que solo tengan las filas comunes? (★★★)\n",
    "\n",
    "Une los DataFrames df1 y df2 por ‘fruit-pazham’ y ‘weight-kilo’."
   ]
  },
  {
   "cell_type": "code",
   "execution_count": null,
   "id": "f79e79a7",
   "metadata": {},
   "outputs": [],
   "source": [
    "## Input\n",
    "\n",
    "df1 = pd.DataFrame({'fruit': ['apple', 'banana', 'orange'] * 3,\n",
    "                    'weight': ['high', 'medium', 'low'] * 3,\n",
    "                    'price': np.random.randint(0, 15, 9)})\n",
    "\n",
    "df2 = pd.DataFrame({'pazham': ['apple', 'orange', 'pine'] * 2,\n",
    "                    'kilo': ['high', 'low'] * 3,\n",
    "                    'price': np.random.randint(0, 15, 6)})"
   ]
  },
  {
   "cell_type": "markdown",
   "id": "fb24674c",
   "metadata": {},
   "source": [
    "#### Ejercicio: ¿Cómo obtener las posiciones donde coinciden los valores de dos columnas? (★★★)\n",
    "\n",
    "Une los DataFrames df1 y df2 por ‘fruit-pazham’ y ‘weight-kilo’."
   ]
  },
  {
   "cell_type": "code",
   "execution_count": null,
   "id": "3e253564",
   "metadata": {},
   "outputs": [],
   "source": [
    "## Input\n",
    "df = pd.DataFrame({'fruit1': np.random.choice(['apple', 'orange', 'banana'], 10),\n",
    "                    'fruit2': np.random.choice(['apple', 'orange', 'banana'], 10)})\n"
   ]
  }
 ],
 "metadata": {
  "kernelspec": {
   "display_name": "Python 3",
   "language": "python",
   "name": "python3"
  },
  "language_info": {
   "codemirror_mode": {
    "name": "ipython",
    "version": 3
   },
   "file_extension": ".py",
   "mimetype": "text/x-python",
   "name": "python",
   "nbconvert_exporter": "python",
   "pygments_lexer": "ipython3",
   "version": "3.8.10"
  }
 },
 "nbformat": 4,
 "nbformat_minor": 5
}
