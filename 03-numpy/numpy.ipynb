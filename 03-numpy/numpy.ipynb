{
 "cells": [
  {
   "cell_type": "markdown",
   "id": "bdfbcacc",
   "metadata": {},
   "source": [
    "## Introduction to numpy\n",
    "\n",
    "NumPy stands for 'Numerical Python'. It is an open-source Python library used to perform various mathematical and scientific tasks. It contains multi-dimensional arrays and matrices, along with many high-level mathematical functions that operate on these arrays and matrices. It contains among other things:\n",
    "\n",
    "→ a powerful N-dimensional array object\n",
    "\n",
    "→ sophisticated (broadcasting) functions\n",
    "\n",
    "→ tools for integrating C/C++ and Fortran code\n",
    "\n",
    "→ useful linear algebra, Fourier transform, and random number capabilities"
   ]
  },
  {
   "cell_type": "markdown",
   "id": "85902746",
   "metadata": {},
   "source": [
    "## Installing NumPy\n",
    "\n",
    "You can install NumPy with:\\\n",
    "`pip install numpy`\\\n",
    "or\\\n",
    "`conda install numpy`"
   ]
  },
  {
   "cell_type": "markdown",
   "id": "c4e52ee5",
   "metadata": {},
   "source": [
    "#### Import the numpy package under the name `np` (★☆☆)"
   ]
  },
  {
   "cell_type": "code",
   "execution_count": null,
   "id": "ea3038d9",
   "metadata": {},
   "outputs": [],
   "source": []
  },
  {
   "cell_type": "markdown",
   "id": "40631cd6",
   "metadata": {},
   "source": [
    "## What is an array and why it is importante for machine learning?\n",
    "\n",
    "An array is a data structure consisting of a collection of elements (values or variables), each identified by at least one array index or key.\n"
   ]
  },
  {
   "cell_type": "markdown",
   "id": "ce969254",
   "metadata": {},
   "source": [
    "![alt text](1D.png \"1D\")"
   ]
  },
  {
   "cell_type": "markdown",
   "id": "735d02e2",
   "metadata": {},
   "source": [
    "We can have arrays from several dimension. Neural networks sometimes deal with 4D arrays. An array is known as the central data structure of the NumPy library. Array in NumPy is called as NumPy Array. Later, we will use also other kind of arrays thar are called: Tensors."
   ]
  },
  {
   "cell_type": "markdown",
   "id": "a20ce3a4",
   "metadata": {},
   "source": [
    "![alt text](3D.png \"3D\")"
   ]
  },
  {
   "cell_type": "markdown",
   "id": "46950f4f",
   "metadata": {},
   "source": [
    "#### Print the numpy version and the configuration (★☆☆)\n",
    "\n",
    "Remember that you can print the version of any package of Python using `name_of_package.__version__`"
   ]
  },
  {
   "cell_type": "code",
   "execution_count": null,
   "id": "2a9f5838",
   "metadata": {},
   "outputs": [],
   "source": []
  },
  {
   "cell_type": "markdown",
   "id": "e3c20b3d",
   "metadata": {},
   "source": [
    "#### Create a null vector of size 10 (★☆☆)\n",
    "Check de function `np.zeros` (https://numpy.org/doc/stable/reference/generated/numpy.zeros.html)"
   ]
  },
  {
   "cell_type": "code",
   "execution_count": null,
   "id": "8a758bcf",
   "metadata": {},
   "outputs": [],
   "source": []
  },
  {
   "cell_type": "markdown",
   "id": "0a708990",
   "metadata": {},
   "source": [
    "#### Create an array with start value, end value and number of values (★☆☆)\n",
    "\n",
    "Check the function `np.linspace` (https://numpy.org/doc/stable/reference/generated/numpy.linspace.html)"
   ]
  },
  {
   "cell_type": "code",
   "execution_count": null,
   "id": "477e01f4",
   "metadata": {},
   "outputs": [],
   "source": []
  },
  {
   "cell_type": "markdown",
   "id": "0b16cd77",
   "metadata": {},
   "source": [
    "#### Define a function with input your date of birth (yyyy/mm/dd) that returns a random array with the following dimensions: (★☆☆)\n",
    "$$yyyy-1900 \\times |mm - dd|$$"
   ]
  },
  {
   "cell_type": "code",
   "execution_count": null,
   "id": "4d9b5975",
   "metadata": {},
   "outputs": [],
   "source": []
  },
  {
   "cell_type": "markdown",
   "id": "782d4c77",
   "metadata": {},
   "source": [
    "#### Create a vector (1D array) with random integers from 10 to 49 and dimension 1x35 (★☆☆)"
   ]
  },
  {
   "cell_type": "code",
   "execution_count": null,
   "id": "5dbe1a08",
   "metadata": {},
   "outputs": [],
   "source": []
  },
  {
   "cell_type": "markdown",
   "id": "48d48f01",
   "metadata": {},
   "source": [
    "#### Reverse last vector (first element becomes last) (★☆☆)\n",
    "Try with `[::-1]`"
   ]
  },
  {
   "cell_type": "code",
   "execution_count": null,
   "id": "3ed233e7",
   "metadata": {},
   "outputs": [],
   "source": []
  },
  {
   "cell_type": "markdown",
   "id": "4fa39382",
   "metadata": {},
   "source": [
    "#### Create a 5x5 identidy matrix (★☆☆)\n",
    "Check the function `eye`(https://numpy.org/devdocs/reference/generated/numpy.eye.html)"
   ]
  },
  {
   "cell_type": "code",
   "execution_count": null,
   "id": "c97757ec",
   "metadata": {},
   "outputs": [],
   "source": []
  },
  {
   "cell_type": "markdown",
   "id": "da64551a",
   "metadata": {},
   "source": [
    "#### Find indices of non-zero elements from [1,2,0,0,4,0] (★☆☆)\n",
    "Check the function `where`(https://numpy.org/devdocs/reference/generated/numpy.where.html)"
   ]
  },
  {
   "cell_type": "code",
   "execution_count": null,
   "id": "327f7adb",
   "metadata": {},
   "outputs": [],
   "source": []
  },
  {
   "cell_type": "markdown",
   "id": "13c5928c",
   "metadata": {},
   "source": [
    "#### Create a 10x10 array with random values and find the minimum and maximum values (★☆☆)\n",
    "Check the function `min`(https://numpy.org/devdocs/reference/generated/numpy.where.html) and `max`(https://numpy.org/devdocs/reference/generated/numpy.max.html)"
   ]
  },
  {
   "cell_type": "code",
   "execution_count": null,
   "id": "911c9b93",
   "metadata": {},
   "outputs": [],
   "source": []
  },
  {
   "cell_type": "markdown",
   "id": "3fa2e461",
   "metadata": {},
   "source": [
    "#### Create a random vector of size 30 and find the mean value (★☆☆)"
   ]
  },
  {
   "cell_type": "code",
   "execution_count": null,
   "id": "323eb38a",
   "metadata": {},
   "outputs": [],
   "source": []
  },
  {
   "cell_type": "markdown",
   "id": "ff8dbb92",
   "metadata": {},
   "source": [
    "## What is the difference between Python List and a Numpy Array?\n",
    "\n",
    "- Python list can contain elements with different data types whereas Numpy Array‘s elements are always homogeneous(same data types).\n",
    "- NumPy arrays are faster and more compact than Python lists.\n",
    "\n",
    "## Why NumPy Arrays are faster than Lists?\n",
    "\n",
    "- NumPy Array uses fixed memory to store data and less memory than Python lists.\n",
    "- Contiguous memory allocation in NumPy Arrays."
   ]
  },
  {
   "cell_type": "markdown",
   "id": "e3a7ba7f",
   "metadata": {},
   "source": [
    "#### Convert the list `my_list = [1, 2, 3]` to numpy array (★☆☆)"
   ]
  },
  {
   "cell_type": "code",
   "execution_count": null,
   "id": "01d8e257",
   "metadata": {},
   "outputs": [],
   "source": []
  },
  {
   "cell_type": "markdown",
   "id": "6d17ab5d",
   "metadata": {},
   "source": [
    "#### Convert the tuple `my_list = (1, 2, 3)` to numpy array (★☆☆)"
   ]
  },
  {
   "cell_type": "code",
   "execution_count": null,
   "id": "841373cd",
   "metadata": {},
   "outputs": [],
   "source": []
  },
  {
   "cell_type": "markdown",
   "id": "8837119b",
   "metadata": {},
   "source": [
    "#### Convert the list of tuples `my_list = [(1,2,3), (4,5)]` to numpy array (★☆☆)"
   ]
  },
  {
   "cell_type": "code",
   "execution_count": null,
   "id": "2c0d16f1",
   "metadata": {},
   "outputs": [],
   "source": []
  },
  {
   "cell_type": "markdown",
   "id": "ec788c9f",
   "metadata": {},
   "source": [
    "#### Resize a random array of dimensions 5x12 into 12x5 (★☆☆)\n",
    "Check `reshape`from `numpy`(https://numpy.org/doc/stable/reference/generated/numpy.reshape.html)"
   ]
  },
  {
   "cell_type": "code",
   "execution_count": null,
   "id": "0a4f919f",
   "metadata": {},
   "outputs": [],
   "source": []
  },
  {
   "cell_type": "markdown",
   "id": "391791e0",
   "metadata": {},
   "source": [
    "#### Create a function that normalize a 5x5 random matrix (★☆☆)\n",
    "Remember from probability (https://en.wikipedia.org/wiki/Normalization_(statistics)) that :\n",
    "$$ x_{norm} = \\frac{x - \\bar{x}}{\\sigma}$$\n"
   ]
  },
  {
   "cell_type": "code",
   "execution_count": null,
   "id": "f6533d39",
   "metadata": {},
   "outputs": [],
   "source": []
  },
  {
   "cell_type": "markdown",
   "id": "d2d143f1",
   "metadata": {},
   "source": [
    "## Stacking numpy arrays\n",
    "\n",
    "Stacking is used to join a sequence of same dimension arrays along a new axis.\n",
    "`numpy.stack(arrays,axis)` : It returns a stacked array of the input arrays which has one more dimension than the input arrays.\n",
    "\n",
    "### You have two ways to do it:\n",
    "\n",
    "\n",
    "![alt text](stack.jpeg \"stack\")\n",
    "\n",
    "\n",
    "### or\n",
    "\n",
    "\n",
    "![alt text](stack2.jpeg \"stack\")\n",
    "\n",
    "\n"
   ]
  },
  {
   "cell_type": "markdown",
   "id": "1e74d39e",
   "metadata": {},
   "source": [
    "#### Generate two random arrays with integers and apply the stacking using `stack` (★★☆)"
   ]
  },
  {
   "cell_type": "code",
   "execution_count": null,
   "id": "3f639d33",
   "metadata": {},
   "outputs": [],
   "source": []
  },
  {
   "cell_type": "markdown",
   "id": "78250c14",
   "metadata": {},
   "source": [
    "#### Generate two random arrays with integers and apply the stacking using `hstack` and `vstack` (★★☆)"
   ]
  },
  {
   "cell_type": "code",
   "execution_count": null,
   "id": "9fe729cb",
   "metadata": {},
   "outputs": [],
   "source": []
  },
  {
   "cell_type": "markdown",
   "id": "51898680",
   "metadata": {},
   "source": [
    "## Basic maths in numpy\n",
    "\n",
    "You can make typical math operations like:\n",
    "\n",
    "- Addition,Subtraction,Multiplication and Division between two arrays using numpy.\n",
    "- Operation on array using sum() & cumsum() function.\n",
    "- Minimum and Maximum value from an array\n",
    "- Exponent/Power , Square Root and Cube Root functions\n",
    "\n",
    "or even apply common trigonometric functions:\n",
    "\n",
    "- `numpy.sin()`:  Sine (x) Function\n",
    "- `numpy.cos()`: Cosine(x) Function\n",
    "- `numpy.tan()`: Tangent(x)Function\n",
    "- `numpy.sinh()`: Hyperbolic Sine (x) Function\n",
    "- `numpy.cosh()`: Hyperbolic Cosine(x) Functionv\n",
    "- `numpy.tanh()`: Hyperbolic Tangent(x)Function\n",
    "- `numpy.arcsin()`: Inverse Sine Function\n",
    "- `numpy.arccos()`: Inverse Cosine Function\n",
    "- `numpy.arctan()`: Inverse Tangent Function\n",
    "- `numpy.pi`: pi value\n",
    "- `numpy.hypot(w,h)`: For calculating Hypotenuse $c = \\sqrt{(w^2 + h^2)}$\n",
    "- `numpy.rad2deg()`: Radians to degrees\n",
    "- `numpy.deg2rad()`: Degrees to radians"
   ]
  },
  {
   "cell_type": "markdown",
   "id": "89e78048",
   "metadata": {},
   "source": [
    "#### Generate two random 8 - dimensional vectors and apply the most common operation between vectors:  addition, substraction, multiplication, division(★☆☆)\n",
    "\n",
    "Check the math functions here: https://numpy.org/doc/stable/reference/routines.math.html"
   ]
  },
  {
   "cell_type": "code",
   "execution_count": null,
   "id": "b62e9d1c",
   "metadata": {},
   "outputs": [],
   "source": []
  },
  {
   "cell_type": "markdown",
   "id": "ebd10810",
   "metadata": {},
   "source": [
    "#### Generate two random matrices with dimensions between 5 and 10, e.g. 5x7 vs 8x9 and try. Were you able to do the matrix multiplication? why? (★★☆) "
   ]
  },
  {
   "cell_type": "code",
   "execution_count": null,
   "id": "6ada209f",
   "metadata": {},
   "outputs": [],
   "source": []
  },
  {
   "cell_type": "markdown",
   "id": "c0e940f8",
   "metadata": {},
   "source": [
    "#### Given 2 numpy arrays as matrices, output the result of multiplying the 2 matrices (as a numpy array) Were you able to do the matrix multiplication? (★★☆) \n",
    "\n",
    "$$ a = \\left(\\begin{matrix}\n",
    "0 & 1 & 2\\\\ \n",
    "3 & 4 & 5\\\\ \n",
    "6 & 7 & 8\n",
    "\\end{matrix}\\right)$$\n",
    "\n",
    "$$ b = \\left(\\begin{matrix}\n",
    "2 & 3 & 4\\\\ \n",
    "5 & 6 & 7\\\\ \n",
    "8 & 9 & 10\n",
    "\\end{matrix}\\right)$$\n",
    "\n",
    "\n"
   ]
  },
  {
   "cell_type": "code",
   "execution_count": null,
   "id": "820dc7a5",
   "metadata": {},
   "outputs": [],
   "source": []
  },
  {
   "cell_type": "markdown",
   "id": "22713c3f",
   "metadata": {},
   "source": [
    "#### Multiply a 5x3 matrix by a 3x2 matrix (real matrix product) (★★☆)"
   ]
  },
  {
   "cell_type": "code",
   "execution_count": null,
   "id": "a3e05c29",
   "metadata": {},
   "outputs": [],
   "source": []
  },
  {
   "cell_type": "markdown",
   "id": "4815930e",
   "metadata": {},
   "source": [
    "## Data types\n",
    "\n",
    "Do you think the following preposition is true?\n",
    "`8==8`\n",
    "\n",
    "Surely you will definetely say yes, which is true mathematically, but computationally it is not always the same, at least in terms of memory. For example, run the following cell:"
   ]
  },
  {
   "cell_type": "code",
   "execution_count": null,
   "id": "cd81c3c6",
   "metadata": {},
   "outputs": [],
   "source": [
    "import sys\n",
    "\n",
    "# int64\n",
    "x = np.array(123)\n",
    "print(\"int64: \" + str(sys.getsizeof(x)))\n",
    "\n",
    "# int8\n",
    "x = np.array(123,dtype=np.int8)\n",
    "print(\"int8: \" + str(sys.getsizeof(x)))\n",
    "\n",
    "# float32\n",
    "x = np.array(123,dtype=np.float32)\n",
    "print(\"float32: \" + str(sys.getsizeof(x)))"
   ]
  },
  {
   "cell_type": "markdown",
   "id": "8e34f294",
   "metadata": {},
   "source": [
    "## It turns out that there are many computational representation of the same number and you can create arrays with different Data Types (dtypes) depending what you need:\n",
    "\n",
    "- Boolean : `np.bool_`\n",
    "- Char : `np.byte`\n",
    "- Short : `np.short`\n",
    "- Integer : `np.short`\n",
    "- Long : `np.int_`\n",
    "- Float : `np.single`&np.float32`\n",
    "- Double :`np.double`&`np.float64`\n",
    "- `np.int8`: integer (-128 to 127)\n",
    "- `np.int16`:integer( -32768 to 32767)\n",
    "- `np.int32`: integer(-2147483648 to 2147483647)\n",
    "- `np.int64`:integer( -9223372036854775808 to 9223372036854775807)\n",
    "\n",
    "\n",
    "Sometimes, you will need to load, create or export arrays from different data types.\n"
   ]
  },
  {
   "cell_type": "code",
   "execution_count": null,
   "id": "890bde78",
   "metadata": {},
   "outputs": [],
   "source": []
  },
  {
   "cell_type": "markdown",
   "id": "f1ae2c2d",
   "metadata": {},
   "source": [
    "## Harder exercises\n",
    "\n",
    "The next exercises are related with real situations you could face while you are working in data science and machine learning and we will be frequently talking about matrices and bidimensional arrays."
   ]
  },
  {
   "cell_type": "markdown",
   "id": "759c9c8d",
   "metadata": {},
   "source": [
    "#### Subtract the mean of each row of a matrix (★★☆)"
   ]
  },
  {
   "cell_type": "code",
   "execution_count": null,
   "id": "6801c73d",
   "metadata": {},
   "outputs": [],
   "source": []
  },
  {
   "cell_type": "markdown",
   "id": "129c342d",
   "metadata": {},
   "source": [
    "#### How to get the dates of yesterday, today and tomorrow? (★★☆)\n",
    "Check `np.datetime64`, `np.timedelta64` in numpy (https://numpy.org/doc/stable/reference/arrays.datetime.html)"
   ]
  },
  {
   "cell_type": "code",
   "execution_count": null,
   "id": "8ba1badb",
   "metadata": {},
   "outputs": [],
   "source": []
  },
  {
   "cell_type": "markdown",
   "id": "42f8b2f9",
   "metadata": {},
   "source": [
    "#### How to get all the dates corresponding to the month of December 2022? (★★☆)\n",
    "Combine `arange`with `datetime`\n"
   ]
  },
  {
   "cell_type": "code",
   "execution_count": null,
   "id": "eb8ebe45",
   "metadata": {},
   "outputs": [],
   "source": []
  },
  {
   "cell_type": "markdown",
   "id": "486df8ea",
   "metadata": {},
   "source": [
    "#### Extract the integer part of a random array of positive numbers using 2 different methods (★★☆)"
   ]
  },
  {
   "cell_type": "code",
   "execution_count": null,
   "id": "34b4fa08",
   "metadata": {},
   "outputs": [],
   "source": []
  },
  {
   "cell_type": "markdown",
   "id": "649e89f9",
   "metadata": {},
   "source": [
    "#### Create a 5x5 matrix with row values ranging from 0 to 4 (★★☆)"
   ]
  },
  {
   "cell_type": "code",
   "execution_count": null,
   "id": "663cc611",
   "metadata": {},
   "outputs": [],
   "source": []
  },
  {
   "cell_type": "markdown",
   "id": "3421e17f",
   "metadata": {},
   "source": [
    "#### Consider a generator function that generates 10 integers and use it to build an array (★★☆)"
   ]
  },
  {
   "cell_type": "code",
   "execution_count": null,
   "id": "7336b8e4",
   "metadata": {},
   "outputs": [],
   "source": []
  },
  {
   "cell_type": "markdown",
   "id": "483dd554",
   "metadata": {},
   "source": [
    "#### Create a vector of size 10 with values ranging from 0 to 1, both excluded (★★☆)"
   ]
  },
  {
   "cell_type": "code",
   "execution_count": null,
   "id": "c89b93e7",
   "metadata": {},
   "outputs": [],
   "source": []
  },
  {
   "cell_type": "markdown",
   "id": "2d07be1c",
   "metadata": {},
   "source": [
    "#### Create a random vector of size 10 and sort it (★★☆)"
   ]
  },
  {
   "cell_type": "code",
   "execution_count": null,
   "id": "4f7cb3ad",
   "metadata": {},
   "outputs": [],
   "source": []
  },
  {
   "cell_type": "markdown",
   "id": "fe043549",
   "metadata": {},
   "source": [
    "#### Consider two random array A and B, check if they are equal (★★☆)"
   ]
  },
  {
   "cell_type": "code",
   "execution_count": null,
   "id": "3326a686",
   "metadata": {},
   "outputs": [],
   "source": []
  },
  {
   "cell_type": "markdown",
   "id": "2002cb03",
   "metadata": {},
   "source": [
    "#### Consider a random 10x2 matrix representing cartesian coordinates, convert them to polar coordinates (★★★)\n",
    "Suggestion: check how to calculate the \"square of a matrix\""
   ]
  },
  {
   "cell_type": "code",
   "execution_count": null,
   "id": "58be72bc",
   "metadata": {},
   "outputs": [],
   "source": []
  },
  {
   "cell_type": "markdown",
   "id": "b7109c9f",
   "metadata": {},
   "source": [
    "#### Create random vector of size 10 and replace the maximum value by 0 (★★☆)"
   ]
  },
  {
   "cell_type": "code",
   "execution_count": null,
   "id": "f79e79a7",
   "metadata": {},
   "outputs": [],
   "source": []
  },
  {
   "cell_type": "markdown",
   "id": "fb24674c",
   "metadata": {},
   "source": [
    "#### How to print all the values of an array? (★★☆)"
   ]
  },
  {
   "cell_type": "code",
   "execution_count": null,
   "id": "c81f1456",
   "metadata": {},
   "outputs": [],
   "source": []
  },
  {
   "cell_type": "markdown",
   "id": "48413134",
   "metadata": {},
   "source": [
    "#### How to convert a float (32 bits) array into an integer (32 bits) in place?\n",
    "Check https://stackoverflow.com/a/4396247/5989906"
   ]
  },
  {
   "cell_type": "code",
   "execution_count": null,
   "id": "5db64b6d",
   "metadata": {},
   "outputs": [],
   "source": []
  },
  {
   "cell_type": "markdown",
   "id": "215b6acc",
   "metadata": {},
   "source": [
    "#### Subtract the mean of each row of a matrix (★★☆)"
   ]
  },
  {
   "cell_type": "code",
   "execution_count": null,
   "id": "dd1adef4",
   "metadata": {},
   "outputs": [],
   "source": []
  },
  {
   "cell_type": "markdown",
   "id": "c0cf37e0",
   "metadata": {},
   "source": [
    "#### How to sort an array by the nth column? (★★☆)"
   ]
  },
  {
   "cell_type": "code",
   "execution_count": null,
   "id": "9336ca5f",
   "metadata": {},
   "outputs": [],
   "source": []
  },
  {
   "cell_type": "markdown",
   "id": "c17fb213",
   "metadata": {},
   "source": [
    "#### Find the position of a the minimum of a 2D matrix? (★★☆)"
   ]
  },
  {
   "cell_type": "code",
   "execution_count": null,
   "id": "7fdda78d",
   "metadata": {},
   "outputs": [],
   "source": []
  },
  {
   "cell_type": "markdown",
   "id": "f4427f7f",
   "metadata": {},
   "source": [
    "#### Read an image using openCV, check its dimensions, normalize the numbers and show the image (★★★)\n",
    "Check: https://www.geeksforgeeks.org/python-opencv-cv2-imread-method/"
   ]
  },
  {
   "cell_type": "code",
   "execution_count": null,
   "id": "fe253212",
   "metadata": {},
   "outputs": [],
   "source": []
  },
  {
   "cell_type": "markdown",
   "id": "33c986d9",
   "metadata": {},
   "source": [
    "#### Considering a four dimensions array, how to get sum over the last two axis at once? (★★★)"
   ]
  },
  {
   "cell_type": "code",
   "execution_count": null,
   "id": "a99a50e2",
   "metadata": {},
   "outputs": [],
   "source": []
  },
  {
   "cell_type": "markdown",
   "id": "928a1a15",
   "metadata": {},
   "source": [
    "#### How to get the diagonal of a dot product? (★★★)"
   ]
  },
  {
   "cell_type": "code",
   "execution_count": null,
   "id": "ef2c9ddd",
   "metadata": {},
   "outputs": [],
   "source": []
  },
  {
   "cell_type": "markdown",
   "id": "f62551d8",
   "metadata": {},
   "source": [
    "#### Consider an array of dimension (5,5,3), how to mulitply it by an array with dimensions (5,5)? (★★★)"
   ]
  },
  {
   "cell_type": "code",
   "execution_count": null,
   "id": "9ab241b7",
   "metadata": {},
   "outputs": [],
   "source": []
  },
  {
   "cell_type": "markdown",
   "id": "6896e326",
   "metadata": {},
   "source": [
    "#### How to swap two rows of an array? (★★★)"
   ]
  },
  {
   "cell_type": "code",
   "execution_count": null,
   "id": "9e8fcba9",
   "metadata": {},
   "outputs": [],
   "source": []
  },
  {
   "cell_type": "markdown",
   "id": "8e83df46",
   "metadata": {},
   "source": [
    "#### Read an image using openCV and tranpose it. What did you get exactly? Was the image rotated? Moved? Reflected with respect to an axis? (★★★)"
   ]
  },
  {
   "cell_type": "code",
   "execution_count": null,
   "id": "f73127b7",
   "metadata": {},
   "outputs": [],
   "source": []
  },
  {
   "cell_type": "markdown",
   "id": "781fa236",
   "metadata": {},
   "source": [
    "#### Consider an array Z = [1,2,3,4,5,6,7,8,9,10,11,12,13,14], how to generate an array R = [[1,2,3,4], [2,3,4,5], [3,4,5,6], ..., [11,12,13,14]]? (★★★)"
   ]
  },
  {
   "cell_type": "code",
   "execution_count": null,
   "id": "8e84d3c2",
   "metadata": {},
   "outputs": [],
   "source": []
  },
  {
   "cell_type": "markdown",
   "id": "7d8dc135",
   "metadata": {},
   "source": [
    "#### How to find the most frequent value in an array? (★★★)"
   ]
  },
  {
   "cell_type": "code",
   "execution_count": null,
   "id": "3978a7a2",
   "metadata": {},
   "outputs": [],
   "source": []
  },
  {
   "cell_type": "markdown",
   "id": "4c70397b",
   "metadata": {},
   "source": [
    "#### How to get the n largest values of an array (★★★)"
   ]
  },
  {
   "cell_type": "code",
   "execution_count": null,
   "id": "16371718",
   "metadata": {},
   "outputs": [],
   "source": []
  },
  {
   "cell_type": "markdown",
   "id": "d94352b6",
   "metadata": {},
   "source": [
    "#### Consider a large vector Z, compute Z to the power of 3 using 3 different methods (★★★)"
   ]
  },
  {
   "cell_type": "code",
   "execution_count": null,
   "id": "301ba8a8",
   "metadata": {},
   "outputs": [],
   "source": []
  },
  {
   "cell_type": "markdown",
   "id": "2784c996",
   "metadata": {},
   "source": [
    "#### Given a two dimensional array, how to extract unique rows? (★★★)"
   ]
  },
  {
   "cell_type": "code",
   "execution_count": null,
   "id": "f030595f",
   "metadata": {},
   "outputs": [],
   "source": []
  },
  {
   "cell_type": "markdown",
   "id": "e5737276",
   "metadata": {},
   "source": [
    "#### Can you have arrray of strings? can you mix different data types in the same array? Can you operate (add, sub, mult) arrays with different data types? (★★★)"
   ]
  },
  {
   "cell_type": "code",
   "execution_count": null,
   "id": "68c333b0",
   "metadata": {},
   "outputs": [],
   "source": []
  }
 ],
 "metadata": {
  "kernelspec": {
   "display_name": "Python 3",
   "language": "python",
   "name": "python3"
  },
  "language_info": {
   "codemirror_mode": {
    "name": "ipython",
    "version": 3
   },
   "file_extension": ".py",
   "mimetype": "text/x-python",
   "name": "python",
   "nbconvert_exporter": "python",
   "pygments_lexer": "ipython3",
   "version": "3.8.10"
  }
 },
 "nbformat": 4,
 "nbformat_minor": 5
}
