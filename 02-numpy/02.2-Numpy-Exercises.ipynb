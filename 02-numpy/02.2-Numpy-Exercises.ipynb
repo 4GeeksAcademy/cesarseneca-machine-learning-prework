{
 "cells": [
  {
   "cell_type": "markdown",
   "metadata": {},
   "source": [
    "# Numpy Exercises\n",
    "\n",
    "| Exercise name         | Description                   | Start in Codespace    |\n",
    "| --------------------- | ----------------------------- |  ----------------- | \n",
    "| Intro to numpy        | for beginners                 | [open in github](https://github.com/4GeeksAcademy/numpy-100) |\n",
    "\n",
    "Note: these exercises were built based on other sources form the internet and internally, here is a great [repostiory of exercises to continue practicing](https://github.com/rougier/numpy-100)."
   ]
  }
 ],
 "metadata": {
  "language_info": {
   "name": "python"
  },
  "orig_nbformat": 4
 },
 "nbformat": 4,
 "nbformat_minor": 2
}
