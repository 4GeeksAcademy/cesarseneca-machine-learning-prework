{
 "cells": [
  {
   "cell_type": "markdown",
   "metadata": {},
   "source": [
    "# NumPy Exercises\n",
    "\n",
    "| Exercise name         | Description                   | Start in Codespace    |\n",
    "| --------------------- | ----------------------------- |  ----------------- | \n",
    "| Intro to NumPy        | For beginners                 | [Open in GitHub](https://github.com/4GeeksAcademy/numpy-100) |\n",
    "\n",
    "Note: these exercises were built based on other sources from the internet, and internally. Here is a great repository of [exercises to continue practicing](https://github.com/rougier/numpy-100)."
   ]
  }
 ],
 "metadata": {
  "language_info": {
   "name": "python"
  },
  "orig_nbformat": 4
 },
 "nbformat": 4,
 "nbformat_minor": 2
}
