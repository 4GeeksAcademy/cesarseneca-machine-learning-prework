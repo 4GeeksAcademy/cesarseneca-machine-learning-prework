{
 "cells": [
  {
   "attachments": {},
   "cell_type": "markdown",
   "id": "bdfbcacc",
   "metadata": {},
   "source": [
    "<img src=\"https://github.com/4GeeksAcademy/machine-learning-prework/blob/main/02-numpy/assets/numpy_logo.png?raw=true\" alt=\"logo\" width=\"400\"/>\n",
    "\n",
    "## Introducción a Numpy\n",
    "\n",
    "NumPy siginifica 'Numerical Python' (Python Numérico). Es una librería Python de código abierto que se utiliza para realizar diversas tareas matemáticas y científicas. Contiene arreglos y matrices multidimensionales, junto con muchas funciones matemáticas de alto nivel que operan en ellos. Entre otras cosas posee:\n",
    "\n",
    "→ un poderoso objeto de array (arreglo) N-dimensional.\n",
    "\n",
    "→ funciones sofisticadas de 'broadcasting'.\n",
    "\n",
    "→ herramientas para integrar códigos C/C++ y Fortran. \n",
    "\n",
    "→ útiles capacidades de álgebra lineal, transformada de Fourier y números aleatorios."
   ]
  },
  {
   "cell_type": "markdown",
   "id": "85902746",
   "metadata": {},
   "source": [
    "## Instalando NumPy\n",
    "Cuando quieres trabajar con numpy localmente, debes correr los sigiuientes comandos:\n",
    "\n",
    "Puedes instalar a Numpy con:\\\n",
    "`pip install numpy`\\\n",
    "or\\\n",
    "`conda install numpy`\n",
    "\n",
    "En nuestro caso, 4Geeks ha preparado todo el entorno de manera que puedas trabajar cómodamente."
   ]
  },
  {
   "cell_type": "markdown",
   "id": "58765356",
   "metadata": {},
   "source": [
    "## ¿Por qué deberíamos usar Numpy?\n",
    "\n",
    "Numpy es una librería que nos permite realizar cálculos numéricos en python. Lo usaremos principalmente porque nos permite crear y modificar 'arrays' (arreglos), como también hacer operaciones sobre ellos con facilidad.\n",
    "\n",
    "Numpy es como Pandas, Matplotlib o Scikit-Learn, uno de los paquetes que no puedes omitir cuando estás aprendiendo Machine Learning. Principalmente porque esta librería proporciona una estructura de datos de matriz que tiene algunos beneficios sobre las listas regulares de Python. Algunos de estos beneficios son: ser más compacto, acceso más rápido a la lectura y redacción de artículos, de forma más conveniente y eficiente.\n",
    "\n",
    "Por ejemplo, vamos a ver depués en el campo de entrenamiento que trabajar con imágenes significa lidiar con matrices tridimensionales tan grandes como 3840 x 2160, lo que significa que vamos a tener 3×3840×2160 = 24883200 entradas!!! 😱😱😱.\n",
    "\n",
    "Trabajar con matrices de esa magnitud es prácticamente imposible de realizar con listas y diccionarios si se quiere tener una programación eficiente y rápida."
   ]
  },
  {
   "cell_type": "markdown",
   "id": "c4e52ee5",
   "metadata": {},
   "source": [
    "#### Ejercicio: Importa el paquete de numpy bajo el nombre `np` (★☆☆).\n",
    "\n",
    "`numpy` es importado comunmente como `np`, por lo tanto, nosotros recomendamos ampliamente poner este alias."
   ]
  },
  {
   "cell_type": "code",
   "execution_count": null,
   "id": "ea3038d9",
   "metadata": {},
   "outputs": [],
   "source": [
    "import (importa) numpy as (como) np"
   ]
  },
  {
   "cell_type": "markdown",
   "id": "40631cd6",
   "metadata": {},
   "source": [
    "## ¿Que es un array y por qué es importante para Machine Learning?\n",
    "\n",
    "Un array (arreglo) es una estructura de datos que consiste en una colección de elementos (valores o variales), cada uno identificado por al menos un índice o clave. "
   ]
  },
  {
   "attachments": {},
   "cell_type": "markdown",
   "id": "ce969254",
   "metadata": {},
   "source": [
    "![alt text](https://github.com/4GeeksAcademy/machine-learning-prework/blob/main/02-numpy/assets/1D.png?raw=true \"1D\")"
   ]
  },
  {
   "cell_type": "markdown",
   "id": "735d02e2",
   "metadata": {},
   "source": [
    "Un array es conocido como la estructura de datos central de la librería Numpy; a su vez, este puede ser de varias dimensiones. Por ejemplo, las redes neuronales a veces lidian con arrays 4D.\n",
    "\n",
    "Luego, vamos a utilizar otro tipo de ellos llamados: Tensors (tensores)."
   ]
  },
  {
   "attachments": {},
   "cell_type": "markdown",
   "id": "a20ce3a4",
   "metadata": {},
   "source": [
    "![alt text](https://github.com/4GeeksAcademy/machine-learning-prework/blob/main/02-numpy/assets/3D.png?raw=true \"3D\")"
   ]
  },
  {
   "cell_type": "markdown",
   "id": "61dd37fc",
   "metadata": {},
   "source": [
    "#### Ejercicio: Imprime la versión y configuración de Numpy (★☆☆)\n",
    "\n",
    "Puedes imprimir la versión de cualquier paquete de Python utilizando `name_of_package.__version__`"
   ]
  },
  {
   "cell_type": "code",
   "execution_count": 5,
   "id": "2a9f5838",
   "metadata": {},
   "outputs": [
    {
     "name": "stdout",
     "output_type": "stream",
     "text": [
      "1.21.3\n"
     ]
    }
   ],
   "source": [
    "import numpy as np\n",
    "print(np.__version__)"
   ]
  },
  {
   "cell_type": "markdown",
   "id": "e3c20b3d",
   "metadata": {},
   "source": [
    "#### Ejercicio:  Crea un 'null vector' (vector nulo) de tamaño 10 (★☆☆)\n",
    "\n",
    "Un `null vector` es un array de ceros (`0`), también llamado `initialization vector` (vector de inicialización).\n",
    "\n",
    ">Chequea la función `np.zeros` (https://numpy.org/doc/stable/reference/generated/numpy.zeros.html)"
   ]
  },
  {
   "cell_type": "code",
   "execution_count": 9,
   "id": "8a758bcf",
   "metadata": {},
   "outputs": [
    {
     "data": {
      "text/plain": [
       "array([], dtype=float64)"
      ]
     },
     "execution_count": 9,
     "metadata": {},
     "output_type": "execute_result"
    }
   ],
   "source": [
    "np.zeros(0)"
   ]
  },
  {
   "cell_type": "markdown",
   "id": "6cbe7954",
   "metadata": {},
   "source": [
    "#### Ejercicio: Crea un vector de `ones` con tamaño de 10 (★☆☆)\n",
    "\n",
    "> Chequea la función `np.ones` (https://numpy.org/doc/stable/reference/generated/numpy.ones.html)"
   ]
  },
  {
   "cell_type": "code",
   "execution_count": 10,
   "id": "86477874",
   "metadata": {},
   "outputs": [
    {
     "data": {
      "text/plain": [
       "array([1., 1., 1., 1., 1., 1., 1., 1., 1., 1.])"
      ]
     },
     "execution_count": 10,
     "metadata": {},
     "output_type": "execute_result"
    }
   ],
   "source": [
    "np.ones(10)"
   ]
  },
  {
   "cell_type": "markdown",
   "id": "0a708990",
   "metadata": {},
   "source": [
    "#### Ejercicio: Crea un array en 1D con valor inicial específico, valor final y número de valores (★☆☆)\n",
    "\n",
    ">Chequea la función `np.linspace` (https://numpy.org/doc/stable/reference/generated/numpy.linspace.html)"
   ]
  },
  {
   "cell_type": "code",
   "execution_count": 11,
   "id": "477e01f4",
   "metadata": {},
   "outputs": [
    {
     "data": {
      "text/plain": [
       "array([1.        , 1.11111111, 1.22222222, 1.33333333, 1.44444444,\n",
       "       1.55555556, 1.66666667, 1.77777778, 1.88888889, 2.        ])"
      ]
     },
     "execution_count": 11,
     "metadata": {},
     "output_type": "execute_result"
    }
   ],
   "source": [
    "np.linspace(1,2,10)"
   ]
  },
  {
   "cell_type": "markdown",
   "id": "782d4c77",
   "metadata": {},
   "source": [
    "#### Corre: crea un vector (array 1D) con enteros aleatorios del 10 al 49 y dimensión 1x35 (★☆☆)\n",
    "\n",
    "Cuando la `dimensión` es expresada `1x35` significa: array de una dimensión con 35 elementos (longitud = 35).\n",
    "\n",
    ">Chequea la función `np.random` que te permite crear arrays aleatorios (https://numpy.org/doc/1.16/reference/routines.random.html)"
   ]
  },
  {
   "cell_type": "code",
   "execution_count": 12,
   "id": "5dbe1a08",
   "metadata": {},
   "outputs": [
    {
     "name": "stdout",
     "output_type": "stream",
     "text": [
      "[0.95625101 0.46980614 0.80157953 0.79762784 0.67327667 0.42400419\n",
      " 0.40437389 0.58845834 0.58894057 0.40771583]\n"
     ]
    }
   ],
   "source": [
    "import numpy as np\n",
    "\n",
    "## 10 números aleatorios entre (0, 1)\n",
    "print(np.random.random(10)) "
   ]
  },
  {
   "cell_type": "code",
   "execution_count": 13,
   "id": "a9354456",
   "metadata": {},
   "outputs": [
    {
     "name": "stdout",
     "output_type": "stream",
     "text": [
      "[0.56168108 0.24748839 0.53761307 0.97091848 0.79245561 0.22161239\n",
      " 0.69350801 0.48000351 0.18968002 0.32187232]\n",
      "[ 0.94209455 -1.64272316  0.56620792  2.10585027 -0.90969019  0.15682171\n",
      " -0.58121318  0.13185223  1.72316188 -0.35960136]\n"
     ]
    }
   ],
   "source": [
    "## Dos formas de crear números con distribución normal\n",
    "print(np.random.rand(10)) # 10 valores aleatorios con distribución N(0,1)\n",
    "print(np.random.normal(loc = 0, scale = 1, size = 10)) # 10 valores aleatorios con distribución N(0,1)"
   ]
  },
  {
   "cell_type": "code",
   "execution_count": null,
   "id": "73ed6271",
   "metadata": {},
   "outputs": [],
   "source": [
    "## ¿Notaste la diferencia entre ambas funciones?\n",
    "print(np.random.normal(loc = -5, scale = 33, size = 10)) # 10 valores aleatorios con distribución N(-5,33)"
   ]
  },
  {
   "cell_type": "code",
   "execution_count": null,
   "id": "49ae7a5a",
   "metadata": {},
   "outputs": [],
   "source": [
    "## 10 valores aleatorios con distribución uniforme. Es decir, todos los valores tienen la misma probabilidad\n",
    "print(np.random.uniform(-30,100,10)) # Todos los valores están entre -30 y 100."
   ]
  },
  {
   "cell_type": "code",
   "execution_count": null,
   "id": "f78e72cb",
   "metadata": {},
   "outputs": [],
   "source": [
    "# 10 valores enteros entre 0 y 100.\n",
    "print(np.random.randint(0, 100, 10))"
   ]
  },
  {
   "cell_type": "code",
   "execution_count": null,
   "id": "db278431",
   "metadata": {},
   "outputs": [],
   "source": [
    "# 10 valores aleatorios con distribución Chi con 5 grados de libertad\n",
    "print(np.random.chisquare(5,10))"
   ]
  },
  {
   "cell_type": "markdown",
   "id": "1b7841da",
   "metadata": {},
   "source": [
    "Los ejemplos anteriores son la distribución más común y los valores aleatorios que aprenderás a lo largo del bootcamp. Ahora, tratemos con esos arrays."
   ]
  },
  {
   "cell_type": "markdown",
   "id": "48d48f01",
   "metadata": {},
   "source": [
    "#### Ejercicio: Invierte uno de los últimos vectores que creamos antes (el primer elemento se convierte en el último) (★☆☆)\n",
    "\n",
    "Intenta con `[::-1]`"
   ]
  },
  {
   "cell_type": "code",
   "execution_count": null,
   "id": "9a6ee003",
   "metadata": {},
   "outputs": [],
   "source": []
  },
  {
   "cell_type": "code",
   "execution_count": null,
   "id": "3e010bb9",
   "metadata": {},
   "outputs": [],
   "source": []
  },
  {
   "cell_type": "code",
   "execution_count": null,
   "id": "3ed233e7",
   "metadata": {},
   "outputs": [],
   "source": []
  },
  {
   "cell_type": "markdown",
   "id": "4fa39382",
   "metadata": {},
   "source": [
    "#### Ejercicio: Crear una matriz de identidad de 5x5 (★☆☆)\n",
    "\n",
    ">Chequea la función `np.eye`(https://numpy.org/devdocs/reference/generated/numpy.eye.html)"
   ]
  },
  {
   "cell_type": "code",
   "execution_count": null,
   "id": "c97757ec",
   "metadata": {},
   "outputs": [],
   "source": []
  },
  {
   "cell_type": "markdown",
   "id": "da64551a",
   "metadata": {},
   "source": [
    "### Ejercicio: Encuentre los índices de los elementos distintos a cero de [1,2,0,0,4,0] (★☆☆)\n",
    "\n",
    ">Chequea la función `where`(https://numpy.org/devdocs/reference/generated/numpy.where.html)"
   ]
  },
  {
   "cell_type": "code",
   "execution_count": null,
   "id": "327f7adb",
   "metadata": {},
   "outputs": [],
   "source": []
  },
  {
   "cell_type": "markdown",
   "id": "13c5928c",
   "metadata": {},
   "source": [
    "#### Ejercicio: Crea un array de 10x10 con valores aleatorios y encuentra los valores mínimo y máximo (★☆☆)\n",
    "\n",
    ">Chequea la función `min` (https://numpy.org/devdocs/reference/generated/numpy.where.html) and `max` (https://numpy.org/devdocs/reference/generated/numpy.max.html)"
   ]
  },
  {
   "cell_type": "code",
   "execution_count": null,
   "id": "911c9b93",
   "metadata": {},
   "outputs": [],
   "source": []
  },
  {
   "cell_type": "markdown",
   "id": "3fa2e461",
   "metadata": {},
   "source": [
    "#### Ejercicio: Crea un vector aleatorio de tamaño 30 y encuentra el valor medio (★☆☆)"
   ]
  },
  {
   "cell_type": "code",
   "execution_count": null,
   "id": "323eb38a",
   "metadata": {},
   "outputs": [],
   "source": []
  },
  {
   "cell_type": "markdown",
   "id": "961f074f",
   "metadata": {},
   "source": [
    "#### Ejercicio: Define una función con tu fecha de nacimiento (aaaa/mm/dd) como dato de entrada, que devuelva un array aleatorio con las siguientes dimensiones: (★★☆)\n",
    "\n",
    "$$yyyy-1900 \\times |mm - dd|$$"
   ]
  },
  {
   "cell_type": "markdown",
   "id": "ff8dbb92",
   "metadata": {},
   "source": [
    "## ¿Cuál es la diferencia entre Python List y Numpy Array?\n",
    "\n",
    "- Python list puede contener elementos con diferentes tipos de datos, mientas que los elementos de Numpy Array son siempre homogéneos (mismo tipo de datos).\n",
    "\n",
    "- Los arrays de Numpy son más rápidos y compactos que las listas de Python.\n",
    "\n",
    "## ¿Por qué los arrays de Numpy son más rápidos que las listas?\n",
    "\n",
    "- Los Numpy Array usan un tamaño fijo de memoria para almacenar datos y menos memoria que las listas de Python.\n",
    "\n",
    "- Asignación de memoria contigua en Numpy Arrays."
   ]
  },
  {
   "cell_type": "markdown",
   "id": "e3a7ba7f",
   "metadata": {},
   "source": [
    "#### Ejercicio: Convierte la lista `my_list = [1, 2, 3]` a un array de Numpy (★☆☆)"
   ]
  },
  {
   "cell_type": "code",
   "execution_count": null,
   "id": "01d8e257",
   "metadata": {},
   "outputs": [],
   "source": []
  },
  {
   "cell_type": "markdown",
   "id": "6d17ab5d",
   "metadata": {},
   "source": [
    "#### Ejercicio: Conviente una tupla `my_list = (1, 2, 3)` a un array de Numpy (★☆☆)"
   ]
  },
  {
   "cell_type": "code",
   "execution_count": null,
   "id": "841373cd",
   "metadata": {},
   "outputs": [],
   "source": []
  },
  {
   "cell_type": "markdown",
   "id": "8837119b",
   "metadata": {},
   "source": [
    "#### Ejercicio: Convierte la lista de tuplas `my_list = [(1,2,3), (4,5)]` a un array de Numpy (★☆☆)"
   ]
  },
  {
   "cell_type": "code",
   "execution_count": null,
   "id": "2c0d16f1",
   "metadata": {},
   "outputs": [],
   "source": []
  },
  {
   "cell_type": "markdown",
   "id": "ec788c9f",
   "metadata": {},
   "source": [
    "#### Ejercicio: Cambia el tamaño de un array aleatorio de dimensiones 5x12 en 12x5 (★☆☆)\n",
    "\n",
    ">Chequea `reshape` de `numpy` (https://numpy.org/doc/stable/reference/generated/numpy.reshape.html)"
   ]
  },
  {
   "cell_type": "code",
   "execution_count": null,
   "id": "0a4f919f",
   "metadata": {},
   "outputs": [],
   "source": []
  },
  {
   "cell_type": "markdown",
   "id": "391791e0",
   "metadata": {},
   "source": [
    "#### Ejercicio: Crea una función que normalice una matriz aleatoria de 5x5 (★☆☆)\n",
    "\n",
    ">Recuerda por probabilidad (https://en.wikipedia.org/wiki/Normalization_(statistics)) que:\n",
    "$$ x_{norm} = \\frac{x - \\bar{x}}{\\sigma}$$\n"
   ]
  },
  {
   "cell_type": "code",
   "execution_count": null,
   "id": "f6533d39",
   "metadata": {},
   "outputs": [],
   "source": []
  },
  {
   "attachments": {},
   "cell_type": "markdown",
   "id": "d2d143f1",
   "metadata": {},
   "source": [
    "## Stacking (apilando) arrays de Numpy\n",
    "\n",
    "Stacking se utiliza para unir una secuencia de arrays de igual dimensión a lo largo de un nuevo axis (eje).\n",
    "\n",
    "`numpy.stack(arrays,axis)` : Devuelve un array apilado que tiene una dimensión más que los arrays de entrada.\n",
    "\n",
    "### Tienes dos maneras de hacerlo:\n",
    "\n",
    "\n",
    "![alt text](https://github.com/4GeeksAcademy/machine-learning-prework/blob/main/02-numpy/assets/stack.jpeg?raw=true \"stack\")\n",
    "\n",
    "\n",
    "### o\n",
    "\n",
    "\n",
    "![alt text](https://github.com/4GeeksAcademy/machine-learning-prework/blob/main/02-numpy/assets/stack2.jpeg?raw=true \"stack\")"
   ]
  },
  {
   "cell_type": "markdown",
   "id": "1e74d39e",
   "metadata": {},
   "source": [
    "#### Ejercicio: Genera dos arrays aleatorios con enteros y aplica el stacking (apilamiento) usando `stack` (★★☆)"
   ]
  },
  {
   "cell_type": "code",
   "execution_count": null,
   "id": "3f639d33",
   "metadata": {},
   "outputs": [],
   "source": []
  },
  {
   "cell_type": "markdown",
   "id": "78250c14",
   "metadata": {},
   "source": [
    "#### Ejercicio: Genera dos arrays aleatorios con enteros y aplica stacking  utilizando `hstack` y `vstack` (★★☆)"
   ]
  },
  {
   "cell_type": "code",
   "execution_count": null,
   "id": "9fe729cb",
   "metadata": {},
   "outputs": [],
   "source": []
  },
  {
   "cell_type": "markdown",
   "id": "51898680",
   "metadata": {},
   "source": [
    "## Matemática básica en Numpy\n",
    "\n",
    "Puedes hacer típicas operaciones matemáticas como:\n",
    "\n",
    "- Suma, resta, multiplicación y división entre dos arrays usando Numpy.\n",
    "- Operación en arrays usando la función sum() y cumsum().\n",
    "- Valor mínimo y máximo de un array.\n",
    "- exponente/potencia, raíz cuadrada y raíz cúbica\n",
    "\n",
    "o incluso aplicar funciones trigonométricas comunes:\n",
    "\n",
    "- `numpy.sin()`: Función Seno(x)\n",
    "- `numpy.cos()`: Función Coseno(x) \n",
    "- `numpy.tan()`: Función Tangente(x)\n",
    "- `numpy.sinh()`: Función Seno Hiperbólico(x) \n",
    "- `numpy.cosh()`:  Función Coseno Hiperbólico(x) \n",
    "- `numpy.tanh()`: Función Tangente Hiperbolica(x) \n",
    "- `numpy.arcsin()`: Función inversa del Seno(x)\n",
    "- `numpy.arccos()`: Función Inversa del coseno(x)\n",
    "- `numpy.arctan()`: Función inversa de la Tangente(x)\n",
    "- `numpy.pi`: Valor de pi π\n",
    "- `numpy.hypot(w,h)`: Para calcular la Hipotenusa $c = \\sqrt{(w^2 + h^2)}$\n",
    "- `numpy.rad2deg()`: Radianes a Grados\n",
    "- `numpy.deg2rad()`: Grados a Radianes"
   ]
  },
  {
   "cell_type": "markdown",
   "id": "89e78048",
   "metadata": {},
   "source": [
    "#### Ejercicio: Genera dos vectores aleatorios de 8 dimensiones y aplica la operación más común entre vectores: suma, resta, multiplicación, división (★☆☆)\n",
    "\n",
    ">Consulta aquí las funciones matemáticas: https://numpy.org/doc/stable/reference/routines.math.html"
   ]
  },
  {
   "cell_type": "code",
   "execution_count": null,
   "id": "b62e9d1c",
   "metadata": {},
   "outputs": [],
   "source": []
  },
  {
   "cell_type": "markdown",
   "id": "ebd10810",
   "metadata": {},
   "source": [
    "#### Ejercicio: Genera dos matrices aleatorias con dimensiones entre 5 y 10. Por ejemplo, prueba 5x7 contra 8x9. ¿Pudiste hacer la multiplicación de matrices? ¿por qué? (★★☆) "
   ]
  },
  {
   "cell_type": "code",
   "execution_count": null,
   "id": "6ada209f",
   "metadata": {},
   "outputs": [],
   "source": []
  },
  {
   "cell_type": "markdown",
   "id": "c0e940f8",
   "metadata": {},
   "source": [
    "#### Ejercicio: Dados 2 Numpy arrays como matrices, genera el resultado de multiplicar las 2 matrices (como un array de Numpy) ¿Pudiste hacer la multiplicación de matrices? (★★☆) \n",
    "\n",
    "$$ a = \\left(\\begin{matrix}\n",
    "0 & 1 & 2\\\\ \n",
    "3 & 4 & 5\\\\ \n",
    "6 & 7 & 8\n",
    "\\end{matrix}\\right)$$\n",
    "\n",
    "$$ b = \\left(\\begin{matrix}\n",
    "2 & 3 & 4\\\\ \n",
    "5 & 6 & 7\\\\ \n",
    "8 & 9 & 10\n",
    "\\end{matrix}\\right)$$\n"
   ]
  },
  {
   "cell_type": "code",
   "execution_count": null,
   "id": "820dc7a5",
   "metadata": {},
   "outputs": [],
   "source": []
  },
  {
   "cell_type": "markdown",
   "id": "22713c3f",
   "metadata": {},
   "source": [
    "#### Ejercicio: Multiplica una matriz de 5x3 por una de 3x2 (producto real de matrices) (★★☆)"
   ]
  },
  {
   "cell_type": "code",
   "execution_count": null,
   "id": "a3e05c29",
   "metadata": {},
   "outputs": [],
   "source": []
  },
  {
   "cell_type": "markdown",
   "id": "4815930e",
   "metadata": {},
   "source": [
    "## Tipos de datos\n",
    "\n",
    "¿Crees que la siguiente preposición es verdadera?\n",
    "\n",
    "`8==8`\n",
    "\n",
    "Seguramente dirás que si, lo cual es verdad matemáticamente, pero computacionalmente no siempre es lo mismo, al menos en términos de memoria. Por ejemplo, corre la siguiente celda:"
   ]
  },
  {
   "cell_type": "code",
   "execution_count": null,
   "id": "cd81c3c6",
   "metadata": {},
   "outputs": [],
   "source": [
    "import sys\n",
    "\n",
    "# int64\n",
    "x = np.array(123)\n",
    "print(\"int64: \" + str(sys.getsizeof(x)))\n",
    "\n",
    "# int8\n",
    "x = np.array(123,dtype=np.int8)\n",
    "print(\"int8: \" + str(sys.getsizeof(x)))\n",
    "\n",
    "# float32\n",
    "x = np.array(123,dtype=np.float32)\n",
    "print(\"float32: \" + str(sys.getsizeof(x)))"
   ]
  },
  {
   "cell_type": "markdown",
   "id": "8e34f294",
   "metadata": {},
   "source": [
    "#### Resulta que hay muchas representaciones computacionales del mismo número y tu puedes crear arrays de diferentes tipos de datos (dtypes) dependiendo de lo que necesites:\n",
    "\n",
    "- Boolean : `np.bool_`\n",
    "- Char : `np.byte`\n",
    "- Short : `np.short`\n",
    "- Integer : `np.short`\n",
    "- Long : `np.int_`\n",
    "- Float : `np.single`&np.float32`\n",
    "- Double :`np.double`&`np.float64`\n",
    "- `np.int8`: integer (-128 to 127)\n",
    "- `np.int16`:integer( -32768 to 32767)\n",
    "- `np.int32`: integer(-2147483648 to 2147483647)\n",
    "- `np.int64`:integer( -9223372036854775808 to 9223372036854775807)\n",
    " \n",
    "Algunas veces, vas a tener que cargar, crear o exportar arrays de diferentes tipos de datos.\n"
   ]
  },
  {
   "cell_type": "code",
   "execution_count": null,
   "id": "890bde78",
   "metadata": {},
   "outputs": [],
   "source": []
  },
  {
   "cell_type": "markdown",
   "id": "f1ae2c2d",
   "metadata": {},
   "source": [
    "## Ejercicios más complicados\n",
    "\n",
    "Los siguienes ejercicios están relacionados con situaciones reales que podrías enfrentar mientras estés trabajando en ciencia de datos (data science) y Machine Learning. También vamos a estar hablando fecuentemente de matrices y arrays bidimensionales."
   ]
  },
  {
   "cell_type": "code",
   "execution_count": null,
   "id": "c227800b",
   "metadata": {},
   "outputs": [],
   "source": []
  },
  {
   "cell_type": "markdown",
   "id": "759c9c8d",
   "metadata": {},
   "source": [
    "#### Ejercicio: Resta la media de cada fila de una matriz (★★☆)"
   ]
  },
  {
   "cell_type": "markdown",
   "id": "255814fd",
   "metadata": {},
   "source": []
  },
  {
   "cell_type": "markdown",
   "id": "3c078ab8",
   "metadata": {},
   "source": []
  },
  {
   "cell_type": "code",
   "execution_count": null,
   "id": "6801c73d",
   "metadata": {},
   "outputs": [],
   "source": []
  },
  {
   "cell_type": "markdown",
   "id": "129c342d",
   "metadata": {},
   "source": [
    "#### Ejercicio: ¿Cómo obtener las fechas de ayer, hoy y mañana? (★★☆)\n",
    "\n",
    ">Chequea `np.datetime64`, `np.timedelta64` in numpy (https://numpy.org/doc/stable/reference/arrays.datetime.html)"
   ]
  },
  {
   "cell_type": "code",
   "execution_count": null,
   "id": "8ba1badb",
   "metadata": {},
   "outputs": [],
   "source": []
  },
  {
   "cell_type": "markdown",
   "id": "42f8b2f9",
   "metadata": {},
   "source": [
    "#### Ejercicio: ¿Cómo obtener todas las fechas correspondientes al mes de diciembre de 2022? (★★☆)\n",
    "\n",
    "Combina `arange`con `datetime`\n"
   ]
  },
  {
   "cell_type": "code",
   "execution_count": null,
   "id": "eb8ebe45",
   "metadata": {},
   "outputs": [],
   "source": []
  },
  {
   "cell_type": "markdown",
   "id": "486df8ea",
   "metadata": {},
   "source": [
    "#### Ejercicio: Extrae la parte entera de un array aleatorio de números positivos usando 2 métodos diferentes (★★☆)"
   ]
  },
  {
   "cell_type": "code",
   "execution_count": null,
   "id": "34b4fa08",
   "metadata": {},
   "outputs": [],
   "source": []
  },
  {
   "cell_type": "markdown",
   "id": "649e89f9",
   "metadata": {},
   "source": [
    "#### Ejercicio: Crea una matriz de 5x5 con valores de fila que van de 0 a 4 (★★☆)"
   ]
  },
  {
   "cell_type": "code",
   "execution_count": null,
   "id": "663cc611",
   "metadata": {},
   "outputs": [],
   "source": []
  },
  {
   "cell_type": "markdown",
   "id": "3421e17f",
   "metadata": {},
   "source": [
    "#### Ejercicio: Considera una función generadora que genere 10 enteros y utilízala para construir un array (★★☆)"
   ]
  },
  {
   "cell_type": "code",
   "execution_count": null,
   "id": "7336b8e4",
   "metadata": {},
   "outputs": [],
   "source": []
  },
  {
   "cell_type": "markdown",
   "id": "483dd554",
   "metadata": {},
   "source": [
    "#### Ejercicio: Crea un vector de tamaño 10 con valores que van de 0 a 1, ambos excluidos (★★☆)"
   ]
  },
  {
   "cell_type": "markdown",
   "id": "0fd85d0f",
   "metadata": {},
   "source": []
  },
  {
   "cell_type": "code",
   "execution_count": null,
   "id": "c89b93e7",
   "metadata": {},
   "outputs": [],
   "source": []
  },
  {
   "cell_type": "markdown",
   "id": "2d07be1c",
   "metadata": {},
   "source": [
    "#### Ejercicio: Crea un vector aleatorio de tamaño 10 y ordénalo (★★☆)"
   ]
  },
  {
   "cell_type": "code",
   "execution_count": null,
   "id": "4f7cb3ad",
   "metadata": {},
   "outputs": [],
   "source": []
  },
  {
   "cell_type": "markdown",
   "id": "fe043549",
   "metadata": {},
   "source": [
    "#### Ejercicio: Considera dos arrays aleatorios A y B, verifica si son iguales (★★☆)"
   ]
  },
  {
   "cell_type": "code",
   "execution_count": null,
   "id": "3326a686",
   "metadata": {},
   "outputs": [],
   "source": []
  },
  {
   "cell_type": "markdown",
   "id": "2002cb03",
   "metadata": {},
   "source": [
    "#### Ejercicios: Considera una matriz aleatoria de 10x2 que representa coordenadas cartesianas, y conviértelas en coordenadas polares(★★★)\n",
    "\n",
    "> Sugerencia: comprueba cómo calcular el \"cuadrado de una matriz\""
   ]
  },
  {
   "cell_type": "code",
   "execution_count": null,
   "id": "58be72bc",
   "metadata": {},
   "outputs": [],
   "source": []
  },
  {
   "cell_type": "markdown",
   "id": "b7109c9f",
   "metadata": {},
   "source": [
    "#### Ejercicio: Crea un vector aleatorio de tamaño 10 y reemplaza el valor máximo por 0 (★★☆)"
   ]
  },
  {
   "cell_type": "code",
   "execution_count": null,
   "id": "f79e79a7",
   "metadata": {},
   "outputs": [],
   "source": []
  },
  {
   "cell_type": "markdown",
   "id": "fb24674c",
   "metadata": {},
   "source": [
    "#### Ejercicio: ¿Cómo imprimir todos los valores de un array? (★★☆)"
   ]
  },
  {
   "cell_type": "markdown",
   "id": "4e9230f2",
   "metadata": {},
   "source": []
  },
  {
   "cell_type": "code",
   "execution_count": null,
   "id": "c81f1456",
   "metadata": {},
   "outputs": [],
   "source": []
  },
  {
   "cell_type": "markdown",
   "id": "48413134",
   "metadata": {},
   "source": [
    "#### Ejercicio: ¿Cómo convertir un array flotante (32 bits) en uno entero (32 bits) en su lugar?\n",
    "\n",
    ">Chequea: https://stackoverflow.com/a/4396247/5989906"
   ]
  },
  {
   "cell_type": "code",
   "execution_count": null,
   "id": "5db64b6d",
   "metadata": {},
   "outputs": [],
   "source": []
  },
  {
   "cell_type": "markdown",
   "id": "215b6acc",
   "metadata": {},
   "source": [
    "#### Ejercicio: Resta la media de cada fila de una matriz (★★☆)"
   ]
  },
  {
   "cell_type": "code",
   "execution_count": null,
   "id": "dd1adef4",
   "metadata": {},
   "outputs": [],
   "source": []
  },
  {
   "cell_type": "markdown",
   "id": "c0cf37e0",
   "metadata": {},
   "source": [
    "#### Ejercicio: ¿Cómo ordenar un array por la enésima columna? (★★☆)"
   ]
  },
  {
   "cell_type": "code",
   "execution_count": null,
   "id": "9336ca5f",
   "metadata": {},
   "outputs": [],
   "source": []
  },
  {
   "cell_type": "markdown",
   "id": "c17fb213",
   "metadata": {},
   "source": [
    "#### Ejercicio: ¿Encuentra la posición del mínimo de una matriz 2D (★★☆)"
   ]
  },
  {
   "cell_type": "code",
   "execution_count": null,
   "id": "7fdda78d",
   "metadata": {},
   "outputs": [],
   "source": []
  },
  {
   "cell_type": "markdown",
   "id": "f4427f7f",
   "metadata": {},
   "source": [
    "#### Ejercicio: Lee una imagen usando openCV, verifica sus dimensiones, normaliza los números y muestra la imagen (★★★)\n",
    "\n",
    ">Chequea: https://www.geeksforgeeks.org/python-opencv-cv2-imread-method/"
   ]
  },
  {
   "cell_type": "code",
   "execution_count": null,
   "id": "fe253212",
   "metadata": {},
   "outputs": [],
   "source": []
  },
  {
   "cell_type": "markdown",
   "id": "33c986d9",
   "metadata": {},
   "source": [
    "#### Ejercicio: Tomando en cuenta un array de cuatro dimensiones, ¿cómo obtener la suma de los dos últimos ejes a la vez? (★★★)"
   ]
  },
  {
   "cell_type": "code",
   "execution_count": null,
   "id": "a99a50e2",
   "metadata": {},
   "outputs": [],
   "source": []
  },
  {
   "cell_type": "markdown",
   "id": "928a1a15",
   "metadata": {},
   "source": [
    "#### Ejercicio: ¿Cómo obtener la diagonal de un producto escalar? (★★★)"
   ]
  },
  {
   "cell_type": "code",
   "execution_count": null,
   "id": "ef2c9ddd",
   "metadata": {},
   "outputs": [],
   "source": []
  },
  {
   "cell_type": "markdown",
   "id": "f62551d8",
   "metadata": {},
   "source": [
    "#### Ejercicio: Considera un array de dimensión (5,5,3), ¿cómo multiplicarlo por un array con dimensiones (5,5)?(★★★)"
   ]
  },
  {
   "cell_type": "code",
   "execution_count": null,
   "id": "9ab241b7",
   "metadata": {},
   "outputs": [],
   "source": []
  },
  {
   "cell_type": "markdown",
   "id": "6896e326",
   "metadata": {},
   "source": [
    "#### Ejercicio: ¿Cómo intercambiar dos filas de un array? (★★★)"
   ]
  },
  {
   "cell_type": "code",
   "execution_count": null,
   "id": "9e8fcba9",
   "metadata": {},
   "outputs": [],
   "source": []
  },
  {
   "cell_type": "markdown",
   "id": "8e83df46",
   "metadata": {},
   "source": [
    "#### Ejercicio: Lee una imagen usando openCV y transpóngala. ¿Qué obtuviste exactamente? ¿Rotó la imagen? ¿Se Movió? ¿Se reflejó con respecto a un eje? (★★★)"
   ]
  },
  {
   "cell_type": "code",
   "execution_count": null,
   "id": "f73127b7",
   "metadata": {},
   "outputs": [],
   "source": []
  },
  {
   "cell_type": "markdown",
   "id": "781fa236",
   "metadata": {},
   "source": [
    "#### Ejercicio: Considera un array Z = [1,2,3,4,5,6,7,8,9,10,11,12,13,14], cómo generar un array R = [[1,2,3,4], [2,3,4,5], [3,4,5,6], ..., [11,12,13,14]]? (★★★)"
   ]
  },
  {
   "cell_type": "code",
   "execution_count": null,
   "id": "8e84d3c2",
   "metadata": {},
   "outputs": [],
   "source": []
  },
  {
   "cell_type": "markdown",
   "id": "7d8dc135",
   "metadata": {},
   "source": [
    "#### Ejercicio: ¿Cómo encontrar el valor más frecuente en un array? (★★★)"
   ]
  },
  {
   "cell_type": "code",
   "execution_count": null,
   "id": "3978a7a2",
   "metadata": {},
   "outputs": [],
   "source": []
  },
  {
   "cell_type": "markdown",
   "id": "4c70397b",
   "metadata": {},
   "source": [
    "#### Ejercicio: ¿Cómo obtener los n valores mas grandes de un array? (★★★)"
   ]
  },
  {
   "cell_type": "code",
   "execution_count": null,
   "id": "16371718",
   "metadata": {},
   "outputs": [],
   "source": []
  },
  {
   "cell_type": "markdown",
   "id": "d94352b6",
   "metadata": {},
   "source": [
    "#### Ejercicio: Considera un gran vector Z, calcula Z elevada a la potencia de 3 usando 3 métodos diferentes (★★★)"
   ]
  },
  {
   "cell_type": "code",
   "execution_count": null,
   "id": "301ba8a8",
   "metadata": {},
   "outputs": [],
   "source": []
  },
  {
   "cell_type": "markdown",
   "id": "2784c996",
   "metadata": {},
   "source": [
    "#### Ejercicio: Dado un array bidimensional, ¿cómo extraer filas únicas?(★★★)"
   ]
  },
  {
   "cell_type": "code",
   "execution_count": null,
   "id": "f030595f",
   "metadata": {},
   "outputs": [],
   "source": []
  },
  {
   "cell_type": "markdown",
   "id": "e5737276",
   "metadata": {},
   "source": [
    "#### Ejercicio: ¿Puedes tener un array de strings (cadenas)? ¿Puedes mezclar diferentes tipos de datos en el mismo array? ¿Puedes operar (sumar, restar, multiplicar) arrays con diferentes tipos de datos? (★★★)"
   ]
  },
  {
   "cell_type": "code",
   "execution_count": null,
   "id": "68c333b0",
   "metadata": {},
   "outputs": [],
   "source": []
  }
 ],
 "metadata": {
  "kernelspec": {
   "display_name": "Python 3",
   "language": "python",
   "name": "python3"
  },
  "language_info": {
   "codemirror_mode": {
    "name": "ipython",
    "version": 3
   },
   "file_extension": ".py",
   "mimetype": "text/x-python",
   "name": "python",
   "nbconvert_exporter": "python",
   "pygments_lexer": "ipython3",
   "version": "3.8.12"
  }
 },
 "nbformat": 4,
 "nbformat_minor": 5
}
