{
 "cells": [
  {
   "cell_type": "markdown",
   "id": "bdfbcacc",
   "metadata": {},
   "source": [
    "## What is artificial intelligence?\n",
    "\n",
    "Usually due to lack of knowledge, we usually call artificial intelligence to any operation that is carried out by a computer. However, this is far from the truth. Artificial intelligence is nourished by different areas, the most popular: data science, deep learning and deep learning.\n",
    "\n",
    "Let's be clear about something, data science is not artificial intelligence, the opposite is not true either, however, you can solve a problem with data science without touching artificial intelligence at any time, the opposite cannot always be carried out.\n",
    "\n",
    "Let's first understand the following diagram:\n",
    "\n",
    "<img src=\"components.png\"/>\n",
    "\n",
    "Natural language processing, image recognition, the process of going from text to speech, language translation, among other areas, are what together we should call artificial intelligence.\n",
    "\n"
   ]
  },
  {
   "cell_type": "markdown",
   "id": "c4e52ee5",
   "metadata": {},
   "source": [
    "## When do we have an AI problem?\n",
    "As we have indicated, it is possible to solve a computational problem simply using data science, applying for example an excellent visualization of the data. We will have an AI problem in cases where we want a machine to carry out very specific tasks in an automated way, where using data we can get that machine to carry out the work for which it was programmed in a correct way and with high precision.\n",
    "\n",
    "\n",
    "## Areas where Artificial Intelligence can be applied\n",
    "Nowadays, there are few areas where algorithms that are related to artificial intelligence are not carried out, from very repetitive tasks such as tightening thousands of screws in one piece to areas where the human is not able to overcome these algorithms such as disease identification in X-ray or microscopic images.\n",
    "\n",
    "At visionanalytics.ai, during the 2020 Madrid strong lockdown caused by the COVID-19 pandemic, we developed an algorithm capable of differentiating X-ray images of patients from images of patients infected with pneumonia caused by COVID-19, in addition From this, the AI was able to pinpoint the affected area:\n",
    "\n",
    "<img src=\"covid.png\" width=\"500\"/>\n",
    "\n",
    "\n",
    "Other solutions were also implemented to reduce the risk of contagion by COVID-19 in different public spaces with a mask detector:\n",
    "\n",
    "<img src=\"mask.png\" width=\"500\"/>\n",
    "\n",
    "The applications as you can see are innumerable, such as increasing the security of spaces by detecting guns:\n",
    "\n",
    "<img src=\"gun.png\" width=\"500\"/>\n",
    "\n",
    "In fact, we use a part of artificial intelligence, every time we take a “selfie” with our mobile phone and it automatically recognizes our face\n",
    "\n",
    "<img src=\"phone.png\" width=\"500\"/>\n",
    "\n",
    "\n",
    "O cuando usamos un filtro de instagram. El dispositivo reconoce la cara de la persona y coloca un “dibujo” en las partes adecuadas de la cara. En este caso, no solo reconoce una cara, sino además detecta la posición de cada una de las partes que la componen\n",
    "\n",
    "\n",
    "<img src=\"instagram.png\" width=\"500\"/>\n"
   ]
  },
  {
   "cell_type": "markdown",
   "id": "40631cd6",
   "metadata": {},
   "source": [
    "## Data Science vs Machine Learning vs Deep Learning vs Artificial Intelligence\n",
    "\n",
    "It usually confuses all these terms but the reality is that although they go hand in hand, many times they do not even require one of the other.\n",
    "\n",
    "Something similar happens when we talk about Machine Learning and Artificial Intelligence, where AI is composed (among other things) of different machine learning algorithms.\n",
    "\n",
    "On the othe hand, Machine learning is the process of data analysis using an algorithm or statistical model that “learns” based on patterns within a model dataset it is exposed to. And just as a curious fact, this algorithm was introduced for the first time in 1847 by the French mathematician Augustin Louis Cauchy as a method of solving non-linear equations. And yes, the artificial intelligence we know today is based on an algorithm from 1847.\n",
    "\n",
    "Each new dataset the algorithm is exposed to helps to “train” it to achieve a certain outcome, as it adjusts its calculation and decision-making process.\n",
    "\n",
    "Therefore, we have what is seen in the image:\n",
    "\n",
    "<img src=\"diagram.png\" alt=\"diagram\" width=\"500\"/>"
   ]
  },
  {
   "cell_type": "markdown",
   "id": "fd4bd44a",
   "metadata": {},
   "source": [
    "## And finally, Big Data.\n",
    "\n",
    "Data Science is any operation that requires data management. From a simple calculation of the age mean using statistics, to complicated data transformations using relational operations (SQL). And this is where the first confusion is generated, so what is Big Data? Well, Big Data, a term very badly used in our days like artificial intelligence, is nothing more than massive data processing, that is, let's say that in data science we process data of any type and at any scale, while the Big Data is the term used to do this processing but on a large scale. Therefore, Big Data is only a small part of what is done in Data Science, although it certainly also requires the help of other professionals such as Data Engineers or Data Architect who support that great computing capacity that data science requires. \n",
    "\n",
    "\n",
    "### So how are data science and Big Data related to machine learning and artificial intelligence?\n",
    "\n",
    "Well, to train these very precise models, large amounts of data are required and this is where the work of the data scientist and data engineer comes in, taking the previous diagram to the next step:\n",
    "<img src=\"ds_big_data.png\" alt=\"diagram\" width=\"500\"/>\n",
    "\n",
    "\n",
    "With this introduction, we proceed to solve the next notebook. \n"
   ]
  },
  {
   "cell_type": "markdown",
   "id": "e3c20b3d",
   "metadata": {},
   "source": [
    "## What we will learn in this notebook?\n",
    "\n",
    "- Types of data.\n",
    "- Metricas estadisticas.\n",
    "- Quantile vs Percentile.\n",
    "- Data visualization: One variable.\n",
    "- Data visualization: Two variable.\n",
    "- Data visualization: Three variable.\n",
    "\n",
    "## What is the goal of this notebook?\n",
    "\n",
    "Although in the other lessons we have learned to deal with real data, in this notebook we will define exactly and put into context fundamental concepts in the area of data science so that you can carry out a preliminary analysis of the data to then adjust a machine learning model that we will learn throughout the bootcamp."
   ]
  },
  {
   "cell_type": "markdown",
   "id": "f5e90b26",
   "metadata": {},
   "source": [
    "## Types of variable\n",
    "\n",
    "#### What is a data?\n",
    "We can define that a data is any vector that we can read with a computer. So, under this definition, everything we mention below is a data:\n",
    "\n",
    "- Images\n",
    "- Words\n",
    "- Audios\n",
    "- Tables\n",
    "- Vectors\n"
   ]
  },
  {
   "cell_type": "code",
   "execution_count": null,
   "id": "8a758bcf",
   "metadata": {},
   "outputs": [],
   "source": []
  },
  {
   "cell_type": "markdown",
   "id": "0a708990",
   "metadata": {},
   "source": [
    "#### Create a line plot of the following vector list (★☆☆)\n",
    "`x = [1, 2, 3, 4], y = [1, 2, 0, 0.5]`\n",
    "Use `ax.plot`"
   ]
  },
  {
   "cell_type": "code",
   "execution_count": null,
   "id": "477e01f4",
   "metadata": {},
   "outputs": [],
   "source": []
  },
  {
   "cell_type": "markdown",
   "id": "0b16cd77",
   "metadata": {},
   "source": [
    "#### Create an area plot of the following vector list (★☆☆)\n",
    "`x = [1, 2, 3, 4], y = [1, 2, 0, 0.5]`\n",
    "Use `ax.fill_between`"
   ]
  },
  {
   "cell_type": "code",
   "execution_count": null,
   "id": "4d9b5975",
   "metadata": {},
   "outputs": [],
   "source": []
  },
  {
   "cell_type": "markdown",
   "id": "782d4c77",
   "metadata": {},
   "source": [
    "#### Create an bar plot of the following vector list (★☆☆)\n",
    "`[1, 2, 3], [3, 2, 1]`\n",
    "Use `ax.bar`"
   ]
  },
  {
   "cell_type": "code",
   "execution_count": null,
   "id": "5dbe1a08",
   "metadata": {},
   "outputs": [],
   "source": []
  },
  {
   "cell_type": "markdown",
   "id": "48d48f01",
   "metadata": {},
   "source": [
    "#### Create a horizontal bar plot of the following vector list (★☆☆)\n",
    "`[1, 2, 3], [3, 2, 1]`\n",
    "Use `ax.barh`"
   ]
  },
  {
   "cell_type": "code",
   "execution_count": null,
   "id": "3ed233e7",
   "metadata": {},
   "outputs": [],
   "source": []
  },
  {
   "cell_type": "markdown",
   "id": "4fa39382",
   "metadata": {},
   "source": [
    "#### Create a histogram plot of a vector array with normal distribution like $N ~ (2, 1.5)$ (★★☆)\n",
    "Remember `np.random` and use ax.hist"
   ]
  },
  {
   "cell_type": "code",
   "execution_count": null,
   "id": "c97757ec",
   "metadata": {},
   "outputs": [],
   "source": []
  },
  {
   "cell_type": "markdown",
   "id": "da64551a",
   "metadata": {},
   "source": [
    "#### Draw a pie chart of the following vector list (★☆☆)\n",
    "`[5, 4, 3, 2, 1]`\n",
    "Use `ax.pie`"
   ]
  },
  {
   "cell_type": "code",
   "execution_count": null,
   "id": "327f7adb",
   "metadata": {},
   "outputs": [],
   "source": []
  }
 ],
 "metadata": {
  "kernelspec": {
   "display_name": "Python 3",
   "language": "python",
   "name": "python3"
  },
  "language_info": {
   "codemirror_mode": {
    "name": "ipython",
    "version": 3
   },
   "file_extension": ".py",
   "mimetype": "text/x-python",
   "name": "python",
   "nbconvert_exporter": "python",
   "pygments_lexer": "ipython3",
   "version": "3.8.10"
  }
 },
 "nbformat": 4,
 "nbformat_minor": 5
}
