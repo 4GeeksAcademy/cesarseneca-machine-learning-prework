{
 "cells": [
  {
   "cell_type": "markdown",
   "metadata": {},
   "source": [
    "# About Jupyter Notebooks\n",
    "\n",
    "The tool your are using to read this lessons is called Jupyter Notebook.\n",
    "Most of the machine learning educational content in the world is written in Jupyter Notebooks.\n",
    "\n",
    "## What are these notebooks so cool?\n",
    "\n",
    "They have many benefits, but mostly is because they are very interactive, it's like reading an interactive book. You can write, run and debug python code, load and visualize data easily and integrate 100% withe the computer terminal.\n",
    "\n",
    "For example, the following is a small python code written in this notebook, please press on the arrow `▶️` button to run the python code."
   ]
  },
  {
   "cell_type": "code",
   "execution_count": 1,
   "metadata": {},
   "outputs": [
    {
     "name": "stdout",
     "output_type": "stream",
     "text": [
      "Hello, I'mam a python script, 2 + 3 is 5\n"
     ]
    }
   ],
   "source": [
    "print(\"Hello, I'mam a python script, 2 + 3 is \"+str(2+3))"
   ]
  },
  {
   "cell_type": "markdown",
   "metadata": {},
   "source": [
    "Note: if you runned this code correctly you should see the following message just below the code execution:\n",
    "```\n",
    "Hello, I'mam a python script, 2 + 3 is 5\n",
    "```"
   ]
  },
  {
   "cell_type": "markdown",
   "metadata": {},
   "source": [
    "## Notebook Scope\n",
    "\n",
    "Every script running on a notebook shares the same scope with all the other notebooks, for example, if you declare the variable `a = 2` at the beginning of the notebook, you will be allowed to use that variable and its value among the entire notebook. Here is an example:"
   ]
  },
  {
   "cell_type": "code",
   "execution_count": 3,
   "metadata": {},
   "outputs": [],
   "source": [
    "# Declaring the variable \"a\"\n",
    "a = 2"
   ]
  },
  {
   "cell_type": "markdown",
   "metadata": {},
   "source": [
    "Run the code above first, and then, in the next block of code, the output of printing \"a\" should be \"2\".\n",
    "This means that, script's share the same scope but the order in which they are runned matters.\n",
    "\n",
    "Go ahead and now try running the script below:"
   ]
  },
  {
   "cell_type": "code",
   "execution_count": 4,
   "metadata": {},
   "outputs": [
    {
     "name": "stdout",
     "output_type": "stream",
     "text": [
      "2\n"
     ]
    }
   ],
   "source": [
    "print(a)"
   ]
  },
  {
   "cell_type": "markdown",
   "metadata": {},
   "source": [
    "## Where to open the Noteboks\n",
    "\n",
    "Jupyter notebooks has its own notebook reader, but other programs like Google Collab or VSCode (which you are using right now) are also able to run notebooks.\n",
    "\n",
    "During this prework we will use mainly vscode, but during the course you will also find Google Collab a lot.\n",
    "\n",
    "Please get familiar with Google Collab."
   ]
  }
 ],
 "metadata": {
  "interpreter": {
   "hash": "8b8334dab9339717f727a1deaf837b322d7a41c20d15cc86be99a8e69ceec8ce"
  },
  "kernelspec": {
   "display_name": "Python 3.8.12 64-bit ('3.8.12': pyenv)",
   "language": "python",
   "name": "python3"
  },
  "language_info": {
   "codemirror_mode": {
    "name": "ipython",
    "version": 3
   },
   "file_extension": ".py",
   "mimetype": "text/x-python",
   "name": "python",
   "nbconvert_exporter": "python",
   "pygments_lexer": "ipython3",
   "version": "3.8.12"
  },
  "orig_nbformat": 4
 },
 "nbformat": 4,
 "nbformat_minor": 2
}
