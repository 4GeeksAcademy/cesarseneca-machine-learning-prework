{
 "cells": [
  {
   "cell_type": "markdown",
   "metadata": {},
   "source": [
    "# About Gitpod\n",
    "\n",
    "__Computers on demand, with VSCode already installed__\n",
    "\n",
    "Gitpod is a service that provides the same computer to all of our students, avoiding installation and compatibility problems that normally happen when every student has a differet computers.\n",
    "\n",
    "When you open a Github repository using Gitpod, you will be \"renting\" a computer with access to the most popular coding editor in the world: VSCode.\n",
    "\n",
    "## Running a project on Gitpod\n",
    "\n",
    "1. Github does not work on its own, it needs to start from a coding repository.\n",
    "2. We strongly recomend you download the [Gitpod Chrome Extension](https://www.gitpod.io/docs/browser-extension/) it will make your workflow easier and faster.\n",
    "3. Once you download and install the extension, you will find a green button called \"Gitpod\" on every github repository.\n",
    "![Gitpod button](assets/github-gitpod.png)\n",
    "4. If you press on this button, it will open the repository files on Gitpod's VSCode coding editor.\n",
    "\n",
    "\n",
    "## The terminal\n",
    "\n",
    "We will be using the terminal sometimes, you can always find or open the terminal by clicking on the hamburger menu on the top left, and looking to the \"terminal\" => \"new terminal\" option.\n",
    "\n",
    "![Gitpod button](assets/terminal.png)\n",
    "\n",
    "### What is the terminal or command line?\n",
    "\n",
    "Every computer has a terminal, and you can use it to control almost everything in your computer.\n",
    "But in Gitpod is will be the only way we have to control the -linux- computer.\n",
    "\n",
    "You don't have to learn the terminal command's yet, but [we strongly recomend to read this lesson](https://content.breatheco.de/en/lesson/the-command-line-the-terminal) to get familiar and know it's functions and limitations.\n",
    "\n",
    "![Gitpod button](assets/terminal-command.png)"
   ]
  }
 ],
 "metadata": {
  "interpreter": {
   "hash": "8b8334dab9339717f727a1deaf837b322d7a41c20d15cc86be99a8e69ceec8ce"
  },
  "kernelspec": {
   "display_name": "Python 3.8.12 64-bit ('3.8.12': pyenv)",
   "language": "python",
   "name": "python3"
  },
  "language_info": {
   "codemirror_mode": {
    "name": "ipython",
    "version": 3
   },
   "file_extension": ".py",
   "mimetype": "text/x-python",
   "name": "python",
   "nbconvert_exporter": "python",
   "pygments_lexer": "ipython3",
   "version": "3.8.12"
  },
  "orig_nbformat": 4
 },
 "nbformat": 4,
 "nbformat_minor": 2
}
