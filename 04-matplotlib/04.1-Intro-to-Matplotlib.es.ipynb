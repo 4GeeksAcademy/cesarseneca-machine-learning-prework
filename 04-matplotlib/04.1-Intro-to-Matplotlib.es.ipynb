{
 "cells": [
  {
   "cell_type": "markdown",
   "id": "bdfbcacc",
   "metadata": {},
   "source": [
    "![alt text](./assets/matplotlib_logo.png \"mat\")\n",
    "\n",
    "\n",
    "## Introducción a Pyplot\n",
    "\n",
    "`atplotlib.pyplot` es una colección de funciones que hace que matplotlib trabaje como MATLAB. Cada función de pyplot hace algún cambio a una figura. Por ejemplo, crea una figura, crea un área de trazado (plotting) en una figura, traza algunas líneas en un área de trazado, decora el trazado con etiquetas, etc.\n",
    "\n",
    "En matplotlib.pyplot varios estados se conservan a través de las llamadas a funciones, de modo que realiza un seguimiento de cosas como la figura actual y el área de ploteo. Las funciones de trazado se dirigen a los ejes actuales (Ten en cuenta que \"ejes\" aquí y en la mayoría de los lugares de la documentación se refiere a la parte de los ejes de una figura y no al término matemático estricto para más de un eje).\n",
    "\n",
    "Te permite crear y personalizar los tipos de gráficos más comunes, incluyendo:\n",
    "\n",
    "- Gráfica de barras.\n",
    "- Histograma.\n",
    "- Diagramas de sectores.\n",
    "- Diagramas de violín.\n",
    "- Gráficos de dispersión o puntos.\n",
    "- Diagramas de linea\n",
    "- Diagramas de área.\n",
    "\n",
    "## Instalando matplotlib\n",
    "\n",
    "Cuando quieres trabajar con matplotlib localmente, debes correr el siguiente comando:\n",
    "\n",
    "`pip install matplotlib`\\\n",
    "o\\\n",
    "`conda install matplotlib`\n",
    "En nuetro caso, 4Geeks ha preparado todo el entorno de manera que puedas trabajar comodamente."
   ]
  },
  {
   "cell_type": "markdown",
   "id": "c4e52ee5",
   "metadata": {},
   "source": [
    "#### Importa el paquete matplotliby el módulo de pyplot de dos maneras diferentes y llámalo \"`plt`\"\n",
    "¿Cuál es \"correcto\"? Revisa PEP8 (https://www.python.org/dev/peps/pep-0008/#imports)"
   ]
  },
  {
   "cell_type": "code",
   "execution_count": null,
   "id": "ea3038d9",
   "metadata": {},
   "outputs": [],
   "source": []
  },
  {
   "cell_type": "markdown",
   "id": "40631cd6",
   "metadata": {},
   "source": [
    "## Creación de charts (gráficos) con matplotlib\n",
    "\n",
    "Para crear un gráfico con matplolib usualmente se siguen los siguientes pasos:\n",
    "\n",
    "- Importa el módulo pyplot.\n",
    "- Define la figura que va a contener el gráfico, la cual es la región (ventana o página) dónde se dibujará y los ejes en los que se dibujarán los datos. Para esto, se usa la función subplots ().\n",
    "- Grafica los datos en los ejes. Para esto, se usan diferentes funciones dependiendo del tipo de gáfico que quieras.\n",
    "- Personaliza el gráfico. Para esto, hay muchas funciones que te permiten agregar un título, una leyenda, una cuadrícula, cambiar colores o personalizar los ejes. \n",
    "- Guarda el gráfico. Para esto, se usa la función savefig ().\n",
    "- Enseña el gráfico. Para esto, se usa la función  show ().\n",
    "\n",
    "Un plot (gráfico) \"vacío\" se creará si corres las siguientes líneas:\n",
    "```\n",
    "# empty plot\n",
    "fig, ax = plt.subplots()\n",
    "```"
   ]
  },
  {
   "cell_type": "markdown",
   "id": "e3c20b3d",
   "metadata": {},
   "source": [
    "#### Crea un diagrama de dispersión (scatter plot) de la siguiente lista de vectores (★☆☆)\n",
    "`x = [1, 2, 3, 4], y = [1, 2, 0, 0.5]`\n",
    "\n",
    "Usa `ax.scatter`"
   ]
  },
  {
   "cell_type": "code",
   "execution_count": null,
   "id": "8a758bcf",
   "metadata": {},
   "outputs": [],
   "source": []
  },
  {
   "cell_type": "markdown",
   "id": "0a708990",
   "metadata": {},
   "source": [
    "#### Crea un  gráfico de líneas (line plot) de la siguiente lista de vectores (★☆☆)\n",
    "`x = [1, 2, 3, 4], y = [1, 2, 0, 0.5]`\n",
    "\n",
    "Usa `ax.plot`"
   ]
  },
  {
   "cell_type": "code",
   "execution_count": null,
   "id": "477e01f4",
   "metadata": {},
   "outputs": [],
   "source": []
  },
  {
   "cell_type": "markdown",
   "id": "0b16cd77",
   "metadata": {},
   "source": [
    "#### Crea una gráfica de área (area plot) de la siguiente lista de vectores (★☆☆)\n",
    "`x = [1, 2, 3, 4], y = [1, 2, 0, 0.5]`\n",
    "\n",
    "Usa `ax.fill_between`"
   ]
  },
  {
   "cell_type": "code",
   "execution_count": null,
   "id": "4d9b5975",
   "metadata": {},
   "outputs": [],
   "source": []
  },
  {
   "cell_type": "markdown",
   "id": "782d4c77",
   "metadata": {},
   "source": [
    "#### Crea un gráfico de barras (bar plot) de la siguiente lista de vectores (★☆☆)\n",
    "`[1, 2, 3], [3, 2, 1]`\n",
    "\n",
    "Usa `ax.bar`"
   ]
  },
  {
   "cell_type": "code",
   "execution_count": null,
   "id": "5dbe1a08",
   "metadata": {},
   "outputs": [],
   "source": []
  },
  {
   "cell_type": "markdown",
   "id": "48d48f01",
   "metadata": {},
   "source": [
    "#### Crea un gráfico de barras (bar plot) horizontal de la siguiente lista de vectores (★☆☆)\n",
    "`[1, 2, 3], [3, 2, 1]`\n",
    "\n",
    "Usa `ax.barh`"
   ]
  },
  {
   "cell_type": "code",
   "execution_count": null,
   "id": "3ed233e7",
   "metadata": {},
   "outputs": [],
   "source": []
  },
  {
   "cell_type": "markdown",
   "id": "4fa39382",
   "metadata": {},
   "source": [
    "#### Crea un diagrama de histograma (histogram plot) de un array vectorial con distribución normal como $N ~ (2, 1.5) $ (★★☆)\n",
    "\n",
    "Nota: Recuerda `np.random` y usa ax.hist"
   ]
  },
  {
   "cell_type": "code",
   "execution_count": null,
   "id": "c97757ec",
   "metadata": {},
   "outputs": [],
   "source": []
  },
  {
   "cell_type": "markdown",
   "id": "da64551a",
   "metadata": {},
   "source": [
    "#### Dibuja un gráfico circular (pie chart) de la siguiente lista de vectores (★☆☆)\n",
    "`[5, 4, 3, 2, 1]`\n",
    "\n",
    "Usa `ax.pie`"
   ]
  },
  {
   "cell_type": "code",
   "execution_count": null,
   "id": "327f7adb",
   "metadata": {},
   "outputs": [],
   "source": []
  },
  {
   "cell_type": "markdown",
   "id": "13c5928c",
   "metadata": {},
   "source": [
    "## Diagramas de caja (Boxplots)\n",
    "\n",
    "La siguiente imágen es una boxplot. Un boxplot es una manera estandarizada de mostrar la distribución de datos basada en un resumen de cinco números (\"mínimo\", primer cuartil (Q1), mediana, tercer cuartil (Q3) y \"máximo\"). Te puede informar sobre sus outliers (valores atípicos) y cuáles son sus valores. También puede dicirte si tus datos son siméticos, qué tan estrechamente están agrupados y si y cómo están sesgados.\n",
    "\n",
    "\n",
    "![alt text](./assets/boxplot.png \"boxp\")\n",
    "\n",
    "\n",
    "Los Boxplots tienen las siguientes características:\n",
    "\n",
    "- Mediana (Q2/percentil 50): el valor medio del DataSet.\n",
    "- Primer cuartil (Q1/percentil 25): el número medio entre el número más pequeño (no el \"mínimo\") y la mediana del DataSet.\n",
    "- Trcer cuartil (Q3/Percentil 75): el valor medio entre la mediana y el valor más alto (no el “máximo”) del DataSet.\n",
    "- Rango intercuartílico (RIC/IQR): percentil 25 al 75.\n",
    "- Whiskers (mostrado en azul).\n",
    "- Outliers (mostrados como círculos verdes).\n",
    "- \"Máximo”: Q3 + 1.5 * IQR.\n",
    "- “Mínimo”: Q1 - 1.5 * IQR.\n",
    "\n",
    "\n",
    "Lo que define un outlier, \"mínimo\" o \"máximo\" puede no estar claro todavía. Te lo explicaremos en el bootcamp."
   ]
  },
  {
   "cell_type": "markdown",
   "id": "33e3e430",
   "metadata": {},
   "source": [
    "#### Crea un boxplot de la siguiente lista de vectores (★☆☆)\n",
    "Usa `ax.boxplot`"
   ]
  },
  {
   "cell_type": "code",
   "execution_count": null,
   "id": "911c9b93",
   "metadata": {},
   "outputs": [],
   "source": []
  },
  {
   "cell_type": "markdown",
   "id": "3fa2e461",
   "metadata": {},
   "source": [
    "#### Elige una imagen aleatoria de Google, léela con openCV y luego haz un gráfico (★★☆)\n",
    "Pick a random image from Google, read it with openCV and then make a plot (★★☆)\n",
    "\n",
    "Usa `cv2.imread`\\\n",
    "Usa `ax.imshow` \\\n",
    "\n",
    "¿Ves la imagen exactamente como es? ¿Qué crees que pasó?"
   ]
  },
  {
   "cell_type": "code",
   "execution_count": null,
   "id": "323eb38a",
   "metadata": {},
   "outputs": [],
   "source": []
  },
  {
   "cell_type": "markdown",
   "id": "ff8dbb92",
   "metadata": {},
   "source": [
    "## Cambia la aparencia de los gráficos\n",
    "\n",
    "Los gráficos creados con matplotlib se pueden personalizar y la apariencia de casi todos los elemnetos pueden ser cambiados. Los elementos que se modifican más frecuentemente son:\n",
    "\n",
    "- Colores.\n",
    "- Marcadores de puntos.\n",
    "- Estilo de líneas\n",
    "- Títulos.\n",
    "- Ejes\n",
    "- Leyenda.\n",
    "- Estante.\n",
    "\n",
    "Para cambiar el color de los objetos, usa el parámetro color = color-name, dónde 'color-name' es un string con el nombre del color entre los colores disponibles.\n",
    "\n",
    "> Chequea la lista completa aquí: https://matplotlib.org/stable/gallery/color/named_colors.html"
   ]
  },
  {
   "cell_type": "markdown",
   "id": "e3a7ba7f",
   "metadata": {},
   "source": [
    "#### Crea un gráfico de línea con las siguientes listas de vectores y personaliza los colores, marcadores, estilo de línea y títulos (★★☆)"
   ]
  },
  {
   "cell_type": "code",
   "execution_count": null,
   "id": "01d8e257",
   "metadata": {},
   "outputs": [],
   "source": []
  },
  {
   "cell_type": "markdown",
   "id": "6d17ab5d",
   "metadata": {},
   "source": [
    "## Múltiples gráficos\n",
    "Es posible dibujar varios gráficos en diferentes ejes en la misma figura organizada en forma de tablas. Para hacer esto, cuando la figura y los ejes son inicializados, el número de las filas y columnas de la tabla que va a contener los gráficos deben ser pasados a la función de subplots. Con esto, los diferentes ejes se organizan en un array y cada uno de ellos puede ser accesado a través de sus índices. Si quieres que los diferentes ejes compartan los mismos límites para los ejes, puedes pasar los parámetros `sharex = True` por el eje x o `sharey = True` por el eje y."
   ]
  },
  {
   "cell_type": "code",
   "execution_count": null,
   "id": "841373cd",
   "metadata": {},
   "outputs": [],
   "source": [
    "## Input\n",
    "s = pd.Series({'Math': 6.0,  'Economy': 4.5, 'Programming': 8.5})"
   ]
  },
  {
   "cell_type": "markdown",
   "id": "8837119b",
   "metadata": {},
   "source": [
    "\n",
    "#### Corre el siguiente código y chequea que pasa"
   ]
  },
  {
   "cell_type": "code",
   "execution_count": null,
   "id": "2c0d16f1",
   "metadata": {},
   "outputs": [],
   "source": [
    "import matplotlib.pyplot as plt\n",
    "fig, ax = plt.subplots(2, 2, sharey = True)\n",
    "days = ['Mon', 'Tue', 'Wed', 'Thu', 'Fri', 'Sat', 'Sun']\n",
    "temperature = {'Madrid':[28.5, 30.5, 31, 30, 28, 27.5, 30.5], 'Barcelona':[24.5, 25.5, 26.5, 25, 26.5, 24.5, 25]}\n",
    "ax[0, 0].plot(days, temperature['Madrid'])\n",
    "ax[0, 1].plot(days, temperature['Barcelona'], color = 'tab:orange')\n",
    "ax[1, 0].bar(days, temperature['Madrid'])\n",
    "ax[1, 1].bar(days, temperature['Barcelona'], color = 'tab:orange')\n",
    "plt.show()"
   ]
  },
  {
   "cell_type": "markdown",
   "id": "ec788c9f",
   "metadata": {},
   "source": [
    "#### Repite los 4 plots que ya hiciste previamente en 4 subplots (★★☆)"
   ]
  },
  {
   "cell_type": "code",
   "execution_count": null,
   "id": "0a4f919f",
   "metadata": {},
   "outputs": [],
   "source": []
  },
  {
   "cell_type": "markdown",
   "id": "7c2e563a",
   "metadata": {},
   "source": [
    "## Integración con Pandas\n",
    "\n",
    "Matplotlib se integra perfectamente con la librería Pandas, permitiendo dibujar gráficos a partir de datos de las series Pandas y DataFrames.\n",
    "\n",
    "#### Chequea el siguiente código que hace lo mismo que arriba:"
   ]
  },
  {
   "cell_type": "code",
   "execution_count": null,
   "id": "3f639d33",
   "metadata": {},
   "outputs": [],
   "source": [
    "import pandas as pd \n",
    "import matplotlib.pyplot as plt\n",
    "\n",
    "df = pd.DataFrame({'Days':['Mon', 'Tue', 'Wed', 'Thu', 'Fri', 'Sat', 'Sun'], \n",
    "                   'Madrid':[28.5, 30.5, 31, 30, 28, 27.5, 30.5], \n",
    "                   'Barcelona':[24.5, 25.5, 26.5, 25, 26.5, 24.5, 25]})\n",
    "fig, ax = plt.subplots()\n",
    "df.plot(x = 'Days', y = 'Madrid', ax = ax)\n",
    "df.plot(x = 'Days', y = 'Barcelona', ax = ax)\n",
    "plt.show()"
   ]
  },
  {
   "cell_type": "markdown",
   "id": "78250c14",
   "metadata": {},
   "source": [
    "#### Lee el archivo titanic_train.csv ubicado en esta carpeta y plotea la media de Edad por el grupo dado por Sexo (★★★)"
   ]
  },
  {
   "cell_type": "code",
   "execution_count": null,
   "id": "9fe729cb",
   "metadata": {
    "scrolled": true
   },
   "outputs": [],
   "source": [
    "import pandas as pd\n",
    "import matplotlib.pyplot as plt\n",
    "import numpy as np\n",
    "\n",
    "pop = pd.read_csv(\"pop_hist.csv\")\n",
    "pop = pop.iloc[np.where(pop.AGE==\"TOTAL\") and np.where(pop.LOCATION!=\"OECD\") and (np.where(pop.LOCATION==\"ESP\") or np.where(pop.LOCATION==\"USA\")) ]\n",
    "pop = pop.loc[:,[\"LOCATION\",\"TIME\",\"Value\"]]\n",
    "pop[\"Value\"] = pop[\"Value\"].astype(int)\n",
    "\n",
    "fig, ax = plt.subplots()\n",
    "pop.plot(x = 'TIME', y = 'Value', ax = ax)\n",
    "pop.plot(x = 'TIME', y = 'Value', ax = ax)\n",
    "plt.show()\n"
   ]
  },
  {
   "cell_type": "markdown",
   "id": "89e78048",
   "metadata": {},
   "source": [
    "## ¿Qué es la visualización de datos 3D?\n",
    "\n",
    "Los datos tridimensionales proporcionan la percepción de profundidad, anchura y altura (los puedes ver de cualquier ángulo). Las visualizaciones tridimensionales fueron desarrolladas para proporcionar información cualitativa y cuantitativa sobre un objeto. Son visualizadas con el proceso de tres fases de escena, geometría y renderizado. Los Datasets aumentan de tamaño, la necesidad de análisis y herramientas de visualización para datos tambien se convierten en esenciales. \n",
    "\n",
    "Las operaciones de análisis, como las operaciones de visualización, pueden basarse en escenas o en objetos y utilizar métodos para cuantificar la información de los objetos.\n",
    "\n",
    "Algunos ejemplos de formas 3D son primas, pirámides, esferas, conos, cubos, e incluso figuras!!!! 😲😲.\n",
    "\n",
    "![alt text](./assets/tea.png)\n",
    "\n",
    "\n",
    "## ¿Por qué es importante la visualización 3D?\n",
    "\n",
    "Las visualizaciones tridimensionales representan visualizaciones en todos los ángulos con solo apagar la cámara en la escena. Al considerar los formatos bidimensionales, existe un límite en la cantidad de información que se debe tomar y utilizar la visualización para tomar decisiones, planificar y dirigirse a los clientes. La visualización tridimensional te permite dibujar qué personaje en la escena cambió. Se comunica facilmente con las características internas. Algunas de las aplicaciones incluyen GIS (Sistemas de Información Geográficos), visualizaciones geográficas en una vista tri-dimensional, provee mayor interacción la cual es esencial para el entendimiento. Da una sensación de inmersión del entorno, donde el usuario aprecia la escala del cambio y visualiza el impacto del diseño de edificaciones en el entorno externo y los habitantes. Los ejemplos GIS incluirán planificación de ciudades, planificación de información de construcción, análisis de costas, modelado y evaluación de granjas eólicas.\n",
    "\n",
    " #### Sin embargo, veremos en las siguientes lecciones que podemos hacer visualizaciones en 4D e incluso estas superficies no son muy comunes en el análisis de datos."
   ]
  },
  {
   "cell_type": "code",
   "execution_count": null,
   "id": "b62e9d1c",
   "metadata": {},
   "outputs": [],
   "source": [
    "# We enable three-dimensional plots by importing the mplot3d toolkit\n",
    "from mpl_toolkits import mplot3d\n",
    "\n",
    "# Once this submodule is imported, we can create a three-dimensional axes by passing the keyword projection='3d' to any of the normal axes creation routines\n",
    "\n",
    "%matplotlib inline\n",
    "import numpy as np\n",
    "import matplotlib.pyplot as plt\n",
    "\n",
    "fig = plt.figure()\n",
    "ax = plt.axes(projection='3d')"
   ]
  },
  {
   "cell_type": "markdown",
   "id": "ebd10810",
   "metadata": {},
   "source": [
    "#### Cambia el nombre de las columnas del DataFrame anterior usando dos métodos diferentes (★★☆)\n",
    "\n",
    ">Chequea la función `rename`: (https://matplotlib.pydata.org/docs/reference/api/matplotlib.DataFrame.rename.html)"
   ]
  },
  {
   "cell_type": "code",
   "execution_count": null,
   "id": "6ada209f",
   "metadata": {},
   "outputs": [],
   "source": [
    "#Three-Dimensional Contour Plots\n",
    "\n",
    "def f(x,y):\n",
    "    return np.sin(np.sqrt(x**2+y**2))\n",
    "\n",
    "x = np.linspace(-6, 6, 30)\n",
    "y = np.linspace(-6, 6, 30)\n",
    "\n",
    "X,Y=np.meshgrid(x,y)\n",
    "Z=f(X,Y)\n",
    "\n",
    "fig=plt.figure()\n",
    "ax = plt.axes(projection='3d')\n",
    "ax.contour3D(X, Y, Z, 50, cmap='binary')\n",
    "ax.set_xlabel('x')\n",
    "ax.set_ylabel('y')\n",
    "ax.set_zlabel('z')\n",
    "\n",
    "#Sometimes the default viewing angle is not optimal, in which case we can use the view_init method to set the elevation and azimuthal angles. \n",
    "\n",
    "ax.view_init(60,35)\n",
    "fig"
   ]
  }
 ],
 "metadata": {
  "kernelspec": {
   "display_name": "Python 3",
   "language": "python",
   "name": "python3"
  },
  "language_info": {
   "codemirror_mode": {
    "name": "ipython",
    "version": 3
   },
   "file_extension": ".py",
   "mimetype": "text/x-python",
   "name": "python",
   "nbconvert_exporter": "python",
   "pygments_lexer": "ipython3",
   "version": "3.8.10"
  }
 },
 "nbformat": 4,
 "nbformat_minor": 5
}
