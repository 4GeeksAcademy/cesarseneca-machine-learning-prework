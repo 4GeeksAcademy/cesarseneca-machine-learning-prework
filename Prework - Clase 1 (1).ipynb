{
 "cells": [
  {
   "cell_type": "markdown",
   "metadata": {
    "id": "r0faoasEjsz5"
   },
   "source": [
    "# **Dia 1**"
   ]
  },
  {
   "cell_type": "markdown",
   "metadata": {},
   "source": [
    "## **Recomendaciones de uso de ChatGPT**\n",
    "\n",
    "* Usar ChatGPT para ayudarte a entender errores y conceptos.\n",
    "* Preguntar de manera clara y específica.\n",
    "* Pedir ejemplos o soluciones paso a paso para problemas complejos.\n",
    "\n",
    "Ejemplo de consulta:\n",
    "\n",
    "\"¿Cómo puedo optimizar este código?\"\n",
    "\n",
    "\"¿Qué significa este error?\""
   ]
  },
  {
   "cell_type": "markdown",
   "metadata": {},
   "source": [
    "# **Python**"
   ]
  },
  {
   "cell_type": "markdown",
   "metadata": {
    "id": "I8-i43aOjxLj"
   },
   "source": [
    "# Variables"
   ]
  },
  {
   "cell_type": "markdown",
   "metadata": {
    "id": "qE6q-gv-j2aL"
   },
   "source": [
    "Una variable es un contenedor para almacenar datos"
   ]
  },
  {
   "cell_type": "code",
   "execution_count": 41,
   "metadata": {
    "id": "WzjIWPd5j7Uw"
   },
   "outputs": [],
   "source": [
    "nombre = \"Juan\"  # Variable de tipo str\n",
    "edad = 8         # Variable de tipo int\n",
    "altura = 1.75     # Variable de tipo float\n",
    "es_estudiante = True  # Variable de tipo bool"
   ]
  },
  {
   "cell_type": "markdown",
   "metadata": {
    "id": "KKRTDe5MlGDY"
   },
   "source": [
    "**Convenciones de nomenclatura**: Se recomienda usar nombres descriptivos y usar minúsculas y separar palabras con guiones bajos (snake_case)."
   ]
  },
  {
   "cell_type": "code",
   "execution_count": null,
   "metadata": {},
   "outputs": [],
   "source": [
    "edad_usuario = 25\n",
    "nombre_completo = \"Ana Pérez\""
   ]
  },
  {
   "cell_type": "markdown",
   "metadata": {
    "id": "WEs4VgEznGNF"
   },
   "source": [
    "**Reasignar valores:** las variables en Python son mutables y se puede modificar el valor que se les asigna. Python siempre tendra en cuenta el ultimo valor asignado a una misma variable"
   ]
  },
  {
   "cell_type": "code",
   "execution_count": 43,
   "metadata": {
    "id": "oO0HGPaMl5Z7"
   },
   "outputs": [],
   "source": [
    "nombre = \"Maria\""
   ]
  },
  {
   "cell_type": "code",
   "execution_count": 44,
   "metadata": {
    "colab": {
     "base_uri": "https://localhost:8080/"
    },
    "executionInfo": {
     "elapsed": 257,
     "status": "ok",
     "timestamp": 1736791309511,
     "user": {
      "displayName": "Alessandro Batini",
      "userId": "00936546318751086458"
     },
     "user_tz": -60
    },
    "id": "YJkPFlVVl8z3",
    "outputId": "b4c9bfd4-2690-4627-c08a-88569a30b267"
   },
   "outputs": [
    {
     "name": "stdout",
     "output_type": "stream",
     "text": [
      "Maria\n"
     ]
    }
   ],
   "source": [
    "print(nombre)"
   ]
  },
  {
   "cell_type": "code",
   "execution_count": 45,
   "metadata": {
    "colab": {
     "base_uri": "https://localhost:8080/"
    },
    "executionInfo": {
     "elapsed": 194,
     "status": "ok",
     "timestamp": 1736703515650,
     "user": {
      "displayName": "Alessandro Batini",
      "userId": "00936546318751086458"
     },
     "user_tz": -60
    },
    "id": "CJmSoUkYmA3q",
    "outputId": "9ec8edb1-3861-4bd0-a617-acbf2fb4b83f"
   },
   "outputs": [
    {
     "name": "stdout",
     "output_type": "stream",
     "text": [
      "Juan\n"
     ]
    }
   ],
   "source": [
    "nombre = \"Juan\"\n",
    "print(nombre)"
   ]
  },
  {
   "cell_type": "markdown",
   "metadata": {
    "id": "CLR3R7FImWfL"
   },
   "source": [
    "# Tipos de Datos"
   ]
  },
  {
   "cell_type": "markdown",
   "metadata": {
    "id": "i4Nj9OK3mbq7"
   },
   "source": [
    "Representan el tipo de valor que una variable puede almacenar. Los más comunes son int, float, str, bool, listas, tuplas, y diccionarios.\n",
    "Es importante esta distinción porque distintas funciones requieren distintos tipos de datos como argumentos.\n",
    "\n"
   ]
  },
  {
   "cell_type": "code",
   "execution_count": 46,
   "metadata": {
    "id": "tG8CRO_vm23k"
   },
   "outputs": [],
   "source": [
    "numero = 42        # int\n",
    "precio = 19.99     # float\n",
    "texto = \"hola\"     # str\n",
    "es_valido = False  # bool\n",
    "lista = [1, 2, 3]  # lista\n",
    "tupla = (4, 5, 6)  # tupla\n",
    "diccionario = {\"clave\": \"valor\"}  # diccionario"
   ]
  },
  {
   "cell_type": "code",
   "execution_count": 47,
   "metadata": {
    "colab": {
     "base_uri": "https://localhost:8080/"
    },
    "executionInfo": {
     "elapsed": 205,
     "status": "ok",
     "timestamp": 1736703925063,
     "user": {
      "displayName": "Alessandro Batini",
      "userId": "00936546318751086458"
     },
     "user_tz": -60
    },
    "id": "8SjqkHGRnpHe",
    "outputId": "ceb6f22f-01cc-44c9-d17f-41b05f95fe9a"
   },
   "outputs": [
    {
     "name": "stdout",
     "output_type": "stream",
     "text": [
      "4\n"
     ]
    }
   ],
   "source": [
    "print(len(texto))  # len() necesita una str, lista o tupla, no un int"
   ]
  },
  {
   "cell_type": "markdown",
   "metadata": {},
   "source": [
    "Como saber que necesita cada funcion? : https://www.w3schools.com/python/"
   ]
  },
  {
   "cell_type": "markdown",
   "metadata": {
    "id": "Z8acvSMJpBcj"
   },
   "source": [
    "¿Qué diferencia hay entre una lista y una tupla?\n",
    "\n",
    "- **Lista**: Mutable (se puede modificar después de crearse)\n",
    "- **Tupla**: Inmutable (no se puede modificar después de crearse)"
   ]
  },
  {
   "cell_type": "markdown",
   "metadata": {
    "id": "ZJnL9OqOpLZW"
   },
   "source": [
    "# Funciones"
   ]
  },
  {
   "cell_type": "markdown",
   "metadata": {
    "id": "3WBE04OQpOGp"
   },
   "source": [
    "Una función es un bloque de código reutilizable que realiza una tarea específica. \n",
    "\n",
    "Nota : Nos detendremos mas en las funciones en la siguiente clase.\n",
    "conceptos claves:\n",
    "\n",
    "\n",
    "*   Se declaran con `def` seguido del nombre de la función.\n",
    "*   Se recomienda que tengan un `return` para devolver un valor.\n",
    "\n"
   ]
  },
  {
   "cell_type": "code",
   "execution_count": null,
   "metadata": {
    "colab": {
     "base_uri": "https://localhost:8080/"
    },
    "executionInfo": {
     "elapsed": 248,
     "status": "ok",
     "timestamp": 1736704734292,
     "user": {
      "displayName": "Alessandro Batini",
      "userId": "00936546318751086458"
     },
     "user_tz": -60
    },
    "id": "YEGiwqsopbbz",
    "outputId": "422ca2d9-5cc0-448b-e5e5-8f98fff530ad"
   },
   "outputs": [
    {
     "name": "stdout",
     "output_type": "stream",
     "text": [
      "Hola, Pepe!\n"
     ]
    }
   ],
   "source": [
    "def saludar(nombre):\n",
    "    return f\"Hola, {nombre}!\"\n",
    "\n",
    "print(saludar(\"Pepe\"))"
   ]
  },
  {
   "cell_type": "markdown",
   "metadata": {},
   "source": [
    "Esta misma funcion la podriamos realizar con una variable"
   ]
  },
  {
   "cell_type": "code",
   "execution_count": null,
   "metadata": {},
   "outputs": [
    {
     "name": "stdout",
     "output_type": "stream",
     "text": [
      "Hola, Juan!\n"
     ]
    }
   ],
   "source": [
    "def saludar(nombre_funcion):\n",
    "    return f\"Hola, {nombre_funcion}!\"\n",
    "\n",
    "print(saludar(nombre))"
   ]
  },
  {
   "cell_type": "markdown",
   "metadata": {
    "id": "rxy0dJEJq2iV"
   },
   "source": [
    "# Operadores"
   ]
  },
  {
   "cell_type": "markdown",
   "metadata": {
    "id": "otkKR5C4q5wu"
   },
   "source": [
    "Los operadores permiten realizar operaciones en variables y valores."
   ]
  },
  {
   "cell_type": "markdown",
   "metadata": {},
   "source": [
    "### Aritméticos"
   ]
  },
  {
   "cell_type": "code",
   "execution_count": 50,
   "metadata": {},
   "outputs": [],
   "source": [
    "suma = 3 + 5\n",
    "resta = 10 - 2\n",
    "multiplicacion = 4 * 3\n",
    "division = 8 / 2"
   ]
  },
  {
   "cell_type": "markdown",
   "metadata": {},
   "source": [
    "### Comparación"
   ]
  },
  {
   "cell_type": "code",
   "execution_count": null,
   "metadata": {},
   "outputs": [],
   "source": [
    "es_igual = 4 == 4  # True\n",
    "es_mayor = 10 > 5  # True"
   ]
  },
  {
   "cell_type": "markdown",
   "metadata": {},
   "source": [
    "### Lógicos"
   ]
  },
  {
   "cell_type": "code",
   "execution_count": 52,
   "metadata": {},
   "outputs": [],
   "source": [
    "resultado = True and False  # False"
   ]
  },
  {
   "cell_type": "markdown",
   "metadata": {
    "id": "8dXhnWkusQHC"
   },
   "source": [
    "# Estructuras de control - Condicionales"
   ]
  },
  {
   "cell_type": "markdown",
   "metadata": {
    "id": "PAfWHMoJsXeE"
   },
   "source": [
    " Permiten ejecutar diferentes bloques de código dependiendo de si una condición es verdadera o falsa."
   ]
  },
  {
   "cell_type": "code",
   "execution_count": null,
   "metadata": {
    "colab": {
     "base_uri": "https://localhost:8080/"
    },
    "executionInfo": {
     "elapsed": 267,
     "status": "ok",
     "timestamp": 1736794032937,
     "user": {
      "displayName": "Alessandro Batini",
      "userId": "00936546318751086458"
     },
     "user_tz": -60
    },
    "id": "EjCYyFJqsnj7",
    "outputId": "84965c5d-9068-466f-98f7-fbbe75d25936"
   },
   "outputs": [
    {
     "name": "stdout",
     "output_type": "stream",
     "text": [
      "Eres niño\n"
     ]
    }
   ],
   "source": [
    "edad = 11\n",
    "if edad >= 18:\n",
    "    print(\"Eres mayor de edad\")\n",
    "elif edad > 12:\n",
    "    print(\"Eres adolescente\")\n",
    "else:\n",
    "    print(\"Eres niño\")\n"
   ]
  },
  {
   "cell_type": "markdown",
   "metadata": {
    "id": "IidfUqMouR-j"
   },
   "source": [
    "# Estructuras de control - Bucles e Iteración"
   ]
  },
  {
   "cell_type": "markdown",
   "metadata": {
    "id": "AfsUu7zAuV_d"
   },
   "source": [
    "Permiten repetir bloques de código varias veces. \n",
    "\n",
    "Tip: Usa `for` cuando sabes cuántas iteraciones necesitas y `while` cuando depende de una condición.\n",
    "\n",
    "¡Cuidado con `while`! Si no incrementamos la variable, el bucle se ejecutará indefinidamente, lo que puede bloquear el programa."
   ]
  },
  {
   "cell_type": "code",
   "execution_count": null,
   "metadata": {
    "colab": {
     "base_uri": "https://localhost:8080/"
    },
    "executionInfo": {
     "elapsed": 252,
     "status": "ok",
     "timestamp": 1736794192104,
     "user": {
      "displayName": "Alessandro Batini",
      "userId": "00936546318751086458"
     },
     "user_tz": -60
    },
    "id": "3qy93yEVua8q",
    "outputId": "5bfd1f4c-a45a-4784-d0f2-339122fbf8b4"
   },
   "outputs": [
    {
     "name": "stdout",
     "output_type": "stream",
     "text": [
      "0\n",
      "1\n",
      "2\n",
      "3\n",
      "4\n"
     ]
    }
   ],
   "source": [
    "# Bucle for\n",
    "for numeros in range(5): #lo que quieran \n",
    "    print(numero)"
   ]
  },
  {
   "cell_type": "code",
   "execution_count": null,
   "metadata": {
    "colab": {
     "base_uri": "https://localhost:8080/"
    },
    "executionInfo": {
     "elapsed": 260,
     "status": "ok",
     "timestamp": 1736794295098,
     "user": {
      "displayName": "Alessandro Batini",
      "userId": "00936546318751086458"
     },
     "user_tz": -60
    },
    "id": "_hfkGoiLuf8x",
    "outputId": "0d4d6b72-46a7-4437-82a3-81a1cdbf53d7"
   },
   "outputs": [
    {
     "name": "stdout",
     "output_type": "stream",
     "text": [
      "P\n",
      "y\n",
      "t\n",
      "h\n",
      "o\n",
      "n\n"
     ]
    }
   ],
   "source": [
    "# Bucle sobre una cadena de texto\n",
    "for i in \"Python\":\n",
    "    print(i)"
   ]
  },
  {
   "cell_type": "code",
   "execution_count": null,
   "metadata": {
    "colab": {
     "base_uri": "https://localhost:8080/"
    },
    "executionInfo": {
     "elapsed": 203,
     "status": "ok",
     "timestamp": 1736705717019,
     "user": {
      "displayName": "Alessandro Batini",
      "userId": "00936546318751086458"
     },
     "user_tz": -60
    },
    "id": "66ALGXvYuilT",
    "outputId": "480cd561-6840-48dd-cce5-c3cf4a281850"
   },
   "outputs": [
    {
     "name": "stdout",
     "output_type": "stream",
     "text": [
      "0\n",
      "1\n",
      "2\n",
      "3\n",
      "4\n"
     ]
    }
   ],
   "source": [
    "# Bucle while\n",
    "x = 0\n",
    "while x < 5:\n",
    "    print(x)\n",
    "    x += 1 #Es lo mismo que decir x = x + 1"
   ]
  },
  {
   "cell_type": "code",
   "execution_count": null,
   "metadata": {},
   "outputs": [
    {
     "name": "stdout",
     "output_type": "stream",
     "text": [
      "manzana\n",
      "banana\n",
      "cereza\n"
     ]
    }
   ],
   "source": [
    "# Bucle `for` sobre una lista\n",
    "frutas = [\"manzana\", \"banana\", \"cereza\"]\n",
    "for fruta in frutas:\n",
    "    print(fruta)"
   ]
  },
  {
   "cell_type": "code",
   "execution_count": null,
   "metadata": {},
   "outputs": [
    {
     "name": "stdout",
     "output_type": "stream",
     "text": [
      "La cereza está en la lista\n"
     ]
    }
   ],
   "source": [
    "# Usando `in` para verificar existencia en una lista\n",
    "if \"cereza\" in frutas:\n",
    "    print(\"La cereza está en la lista\")"
   ]
  }
 ],
 "metadata": {
  "colab": {
   "authorship_tag": "ABX9TyMqorlyNhn53NNY4wwXnlvr",
   "provenance": []
  },
  "kernelspec": {
   "display_name": "Python 3",
   "name": "python3"
  },
  "language_info": {
   "codemirror_mode": {
    "name": "ipython",
    "version": 3
   },
   "file_extension": ".py",
   "mimetype": "text/x-python",
   "name": "python",
   "nbconvert_exporter": "python",
   "pygments_lexer": "ipython3",
   "version": "3.12.1"
  }
 },
 "nbformat": 4,
 "nbformat_minor": 0
}
