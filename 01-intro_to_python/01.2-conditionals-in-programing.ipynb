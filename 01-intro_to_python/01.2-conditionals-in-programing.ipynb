{
 "cells": [
  {
   "cell_type": "markdown",
   "metadata": {},
   "source": [
    "\n",
    "# Introduction to conditionals in Python\n",
    "\n",
    "There are 5 skills you need to master in your toolset for building algorithms with python:\n",
    "\n",
    "1. Variables.\n",
    "2. `Conditionals`.\n",
    "3. Lists (or arrays).\n",
    "4. Loops.\n",
    "5. Functions.\n",
    "\n",
    "The use of `conditionals` is the easies way we have to make decisions when coding our algorithms.\n",
    "\n",
    "Let's say we are building a program to help us pick what to wear, but we hate the blue color, we could tell the computer to avoid that color using a statement like this:  "
   ]
  },
  {
   "cell_type": "code",
   "execution_count": null,
   "metadata": {},
   "outputs": [],
   "source": [
    "if color == 'blue':\n",
    "    #do something\n",
    "else:\n",
    "    #do something else or do nothing"
   ]
  },
  {
   "cell_type": "markdown",
   "metadata": {},
   "source": [
    "\n",
    "![Condicionales](assets/conditional.png)\n",
    "\n",
    "[[info]]\n",
    "|:link: Using `switch` is not available in python.\n",
    "\n",
    "## What is a logical expression in Python?\n",
    "\n",
    "Logical expressions let you conditionally skip a series of lines of your code.\n",
    "The best wat to understand them, is to think of them like questions you can ask to the computer about your variables, for example:\n",
    "\n",
    "1. `if user_age > 21:`\n",
    "2. `if day == \"tuesday\"`\n",
    "3. `if car_model == \"toyota\" and number_of_tires == 6:`\n",
    "\n",
    "In order to ask a question, or conditionally excuse a particular set of lines, you first need to have data (information) stored on useful variables, above we had the variables `user_age`, `day`, `car_model` and `number_of_tires`.\n",
    "\n",
    "If we don't have the information pre-stored in variables we are not able to ask any question, it is all about strategy and planning!\n",
    "\n",
    "For example, if we have the user's age stored in a variable `age` then, and only then, we are able to code for something like:"
   ]
  },
  {
   "cell_type": "code",
   "execution_count": null,
   "metadata": {},
   "outputs": [],
   "source": [
    "\n",
    "# We use two equal signs when we want to compare two variables for equality\n",
    "if age == 21:\n",
    "    print(\"You are old enough!!\")"
   ]
  },
  {
   "cell_type": "markdown",
   "metadata": {},
   "source": [
    "## What type of conditions/questions can we use/ask?\n",
    "\n",
    "The previous example was a simple condition, but in real life picking what to wear involves a combination of several conditions to make the final decision, for example: Let's look at this algorithm that tells you if you have the flu\n",
    "\n",
    "![Hit by car or have a flu](assets/type-of-condition.jpeg)\n",
    "\n",
    "If you want to represent this algorithm in Python it will look something like this:"
   ]
  },
  {
   "cell_type": "code",
   "execution_count": null,
   "metadata": {},
   "outputs": [],
   "source": [
    "\n",
    "feels_like_hit_by_train = True\n",
    "you_were_hit_by_train = False\n",
    "\n",
    "if feels_like_hit_by_train == True:\n",
    "    if you_were_hit_by_train == True:\n",
    "        print(\"You don't have a flu\")\n",
    "    else:\n",
    "        print(\"You have a flu\")\n",
    "else:\n",
    "    print(\"You don't have a flu\")"
   ]
  },
  {
   "cell_type": "markdown",
   "metadata": {},
   "source": [
    "Basically, this algorithm has two variables to consider: `feels_like_hit_by_train` and `you_were_hit_by_train`.\n",
    "Our job as developers is to sit down and try to prepare a strategy and come up with an algorithm that solves a problem.\n",
    "\n",
    "## Logical Operators in Python\n",
    "\n",
    "Mostly all the questions can be asked using the following comparisons: `==`, `>`, `<`, `!=`, `python> is None`, `python> is not None`, `in`:\n",
    "\n",
    "| Operator      | Example       | Description  |\n",
    "| ----          | ----          | --------  |\n",
    "| `==`          | `if a == b`   | if the value of variable A is **identical** to the value of B (same data-type and value)   |\n",
    "| `<`           | `if a < b`    | if the value of variable A is **less** than the value of B   |\n",
    "| `>`           | `if a > b`    | if the value of variable A is **greater** than the value of B   |\n",
    "| `!=`          | `if a != b`   | if the value of variable A is **different** (not identical) from the value of B |\n",
    "| `is not None` | `if a is not None`    | This is self-explanatory, isn't it?   |\n",
    "| `is None`     | `if a is None`    | This is self-explanatory, isn't it?   |\n",
    "| `in`          | `if name in ['bob','maria','nancy']`  | If the value of name is contained inside the list of names   |\n",
    "\n",
    "### `AND` & `OR` Operators in python\n",
    "\n",
    "Another way to write the algorithm is to combine to questions in the same condition using the `and` and `or`:"
   ]
  },
  {
   "cell_type": "code",
   "execution_count": null,
   "metadata": {},
   "outputs": [],
   "source": [
    "feels_like_hit_by_train = True\n",
    "you_were_hit_by_train = False\n",
    "\n",
    "if feels_like_hit_by_train and you_were_hit_by_train:\n",
    "    print(\"You don't have a flu\")\n",
    "elif feels_like_hit_by_train:\n",
    "    print(\"You have a flu\")"
   ]
  },
  {
   "cell_type": "markdown",
   "metadata": {},
   "source": [
    "\n",
    "\n",
    "As you can see here we are using `elif` together for the first time, for faster coding. Another trick you can use for faster coding:\n",
    "\n",
    "| Original | Equivalent |\n",
    "| --- | --- |\n",
    "| instead of `if(feels_like_hit_by_train == true)` | you write `if(feels_like_hit_by_train)`  |\n",
    "| instead of `if(you_were_hit_by_train == false)` | you write `if(!you_were_hit_by_train)` |\n",
    "\n",
    "\n",
    "## If...else in Python\n",
    "\n",
    "You can also use the `else`  expression to refer to the negation of the first condition:"
   ]
  },
  {
   "cell_type": "code",
   "execution_count": null,
   "metadata": {},
   "outputs": [],
   "source": [
    "if color == \"blue\":\n",
    "    # Discard this clothing item\n",
    "else:\n",
    "    # Put it in your closet\n",
    "\n",
    "age = 12\n",
    "if age < 18:\n",
    "    print(\"Old enough\")\n",
    "else:\n",
    "    print(\"Not old enough\")"
   ]
  },
  {
   "cell_type": "markdown",
   "metadata": {},
   "source": [
    "You can also nest several if...else conditions on top of one another, like this:"
   ]
  },
  {
   "cell_type": "code",
   "execution_count": 5,
   "metadata": {},
   "outputs": [
    {
     "name": "stdout",
     "output_type": "stream",
     "text": [
      "You cannot do anything\n"
     ]
    }
   ],
   "source": [
    "age = int(input(\"How old are you?\"))\n",
    "\n",
    "if age < 16:\n",
    "    print(\"You cannot do anything\")\n",
    "elif age < 18:\n",
    "    print(\"At this point, we know it's older than 15 because if not it would have entered into the first condition\")\n",
    "elif age < 21:\n",
    "    print(\"If the algorithm enters here, we know its older than 17\")\n",
    "else:\n",
    "    print(\"If the algorithm enters here, we know its older than 20\")"
   ]
  },
  {
   "cell_type": "markdown",
   "metadata": {},
   "source": [
    "Here is another example that runs an algorithm to find out if a number is in the \"hundreds\"."
   ]
  },
  {
   "cell_type": "code",
   "execution_count": 3,
   "metadata": {},
   "outputs": [
    {
     "name": "stdout",
     "output_type": "stream",
     "text": [
      "dozens\n"
     ]
    }
   ],
   "source": [
    "value = 14\n",
    "\n",
    "if value < 10:\n",
    "  print(\"Single unit value\")\n",
    "elif value < 100:\n",
    "  print(\"dozens\")\n",
    "elif value < 1000:\n",
    "  print(\"hundreds\")\n",
    "elif value < 10000:\n",
    "  print(\"thousands\")\n",
    "else:\n",
    "  print(\"hundrends of thousands or maybe more\")"
   ]
  },
  {
   "cell_type": "markdown",
   "metadata": {},
   "source": [
    "## Conclusion\n",
    "\n",
    "It's all about what question to ask: The previous example was a simple condition, but real life is not that simple. There are lots of nested conditions and complicated flows that will challenge your skills to the limit. For example:\n",
    "\n",
    "This will be the algorithm to pick what to wear on Valentine's Day:\n",
    "\n",
    "![What to ware in valentine's day](assets/valentines.jpeg)"
   ]
  },
  {
   "cell_type": "code",
   "execution_count": 2,
   "metadata": {},
   "outputs": [
    {
     "name": "stdout",
     "output_type": "stream",
     "text": [
      "Cool mix huh?\n"
     ]
    }
   ],
   "source": [
    "going_out = True\n",
    "can_I_get_burger = True\n",
    "place_bottle_white = True\n",
    "blazers = 2\n",
    "\n",
    "if going_out:\n",
    "    if can_I_get_burger:\n",
    "        if place_bottle_white:\n",
    "                print(\"Cool mix huh?\")\n",
    "        else:\n",
    "            if blazers > 3:\n",
    "                print(\"I need to by more hangers\")\n",
    "            else:\n",
    "                print(\"Working on it\")\n",
    "    else:\n",
    "        if she_pants:\n",
    "            print(\"Not for long!\")\n",
    "        else:\n",
    "            print(\"A dress/skirt\")\n",
    "else:\n",
    "    if naked_she_door:\n",
    "        print(\"Excuse me?\")\n",
    "    elif blazers > 3:\n",
    "        print(\"I need to by more hangers\")\n",
    "    else:\n",
    "        print(\"Working on it\")"
   ]
  }
 ],
 "metadata": {
  "interpreter": {
   "hash": "8b8334dab9339717f727a1deaf837b322d7a41c20d15cc86be99a8e69ceec8ce"
  },
  "kernelspec": {
   "display_name": "Python 3.8.12 64-bit ('3.8.12': pyenv)",
   "name": "python3"
  },
  "language_info": {
   "codemirror_mode": {
    "name": "ipython",
    "version": 3
   },
   "file_extension": ".py",
   "mimetype": "text/x-python",
   "name": "python",
   "nbconvert_exporter": "python",
   "pygments_lexer": "ipython3",
   "version": "3.8.12"
  },
  "orig_nbformat": 4
 },
 "nbformat": 4,
 "nbformat_minor": 2
}
