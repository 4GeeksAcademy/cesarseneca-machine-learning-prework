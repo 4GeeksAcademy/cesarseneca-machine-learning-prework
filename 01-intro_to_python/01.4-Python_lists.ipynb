{
 "cells": [
  {
   "cell_type": "markdown",
   "metadata": {},
   "source": [
    "## Introduction to Python lists\n",
    "\n",
    "Mastering the use of lists and loops is one of the 5 fundamental skills of building algorithms:\n",
    "\n",
    "1. Variables.\n",
    "2. Conditionals.\n",
    "3. `Lists`.\n",
    "4. `Loops`.\n",
    "5. Functions.\n",
    "\n",
    "\n",
    "## What is a List?\n",
    "\n",
    "A list is, normally, any collection of values.  The rules of how to add or remove elements from that list can change from one programming language to another.  But – generally – they are the only ways for developers to create elements.\n",
    "Lists are not the only way we have to list store multiple values at once but it is the most used tool for that purpose. For example: list of students, list of artists, list of transactions…anything!\n",
    "\n",
    "This primitive data-type does a lot more stuff than the others.\n",
    "\n",
    "Every list has the same basic concepts:\n",
    "\n",
    "**The items:** are the actual values inside in each position of the list.\n",
    "\n",
    "**The length:** is the size of the list (how many items the list has).\n",
    "\n",
    "**Index:** is the position of the element.\n",
    "\n",
    "![what is an list define list](./assets/this-is-an-array.png)\n",
    "\n",
    "\n",
    "> ⚠️  List positions start a **zero (0)**; the first element is the element in the position **zero (0)**\n",
    "\n",
    "## How to Declare a List?\n",
    "\n",
    "These are different examples of list declarations:"
   ]
  },
  {
   "cell_type": "code",
   "execution_count": null,
   "metadata": {},
   "outputs": [],
   "source": [
    "myList = [] # empty list\n",
    "myList = [\"Apple\", \"Orange\", \"Donkey\"] # The only way to declare a \"list\" - a mutable and ordered collection of items\n",
    "myTuple = (\"Apple\", \"Orange\", \"Donkey\") # This a \"tuple\" - a more limited, ordered but immutable collection of items\n",
    "mySet = {\"Apple\", \"Orange\", \"Donkey\"} # This is a \"set\" - a more limited, unordered and immutable collection of items"
   ]
  },
  {
   "cell_type": "markdown",
   "metadata": {},
   "source": [
    "\n",
    "## Access Items in the List\n",
    "\n",
    "To access a specific element in a list, you need an `index`.  We call `index` the integer value that represents the position of the element you want to access/get/retrieve.\n",
    "\n",
    "The index always must start at zero (0).  That means that an List of 2 items can have index=0 or index=1.  Trying to get the 2nd position will return \"undefined\" because it will mean that we are trying to access the third element (which does not exist).  For example, to get any items in the list you can do the following:"
   ]
  },
  {
   "cell_type": "code",
   "execution_count": null,
   "metadata": {},
   "outputs": [],
   "source": [
    "print(myList[0])  # print first element on the console\n",
    "\n",
    "aux = myList[3]\n",
    "print(aux); # print the 4th element on the console\n",
    "print(myList[len(myList) - 1]);  # print the last element on the console"
   ]
  },
  {
   "cell_type": "markdown",
   "metadata": {},
   "source": [
    "## Update Items in the List\n",
    "\n",
    "If you want you can reset or update any item inside of a list using its index like this:"
   ]
  },
  {
   "cell_type": "code",
   "execution_count": null,
   "metadata": {},
   "outputs": [],
   "source": [
    "myList[5] = 'Whatever value'\n",
    "# Assign a value to the 6th element on the list "
   ]
  },
  {
   "cell_type": "markdown",
   "metadata": {},
   "source": [
    "## Adding Elements to Python Lists (append and insert)\n",
    "\n",
    "### Using `append` in Python Lists\n",
    "\n",
    "The first way is to add the element to the end of the list, you should use this method every time you can because it's a lot faster than `insert`."
   ]
  },
  {
   "cell_type": "code",
   "execution_count": null,
   "metadata": {},
   "outputs": [],
   "source": [
    "myList = ['Pedro','Juan','Maria']\n",
    "myList.append('Chris') # add Chris to the end of the list\n",
    "print(myList); # Output: ['Pedro','Juan','Maria','Chris'];"
   ]
  },
  {
   "cell_type": "markdown",
   "metadata": {},
   "source": [
    "### Using `insert` in Python Lists\n",
    "\n",
    "Using insert is easier for the developer because it will let you pick the positions in which you want to inster the element, but it is a slower method (worse performance):"
   ]
  },
  {
   "cell_type": "code",
   "execution_count": null,
   "metadata": {},
   "outputs": [],
   "source": [
    "myList = ['Pedro','Juan','Maria']\n",
    "myList.insert(1,'Chris') # add Chris between Pedro and Juan\n",
    "print(myList); # Output ['Pedro','Chris','Juan','Maria'];"
   ]
  },
  {
   "cell_type": "markdown",
   "metadata": {},
   "source": [
    "## Removing Elements from a Python List (pop, remove, delete)\n",
    "\n",
    "Python has many ways to delete an element from a list\n",
    "\n",
    "### Using POP\n",
    "\n",
    "It will remove the last element only!"
   ]
  },
  {
   "cell_type": "code",
   "execution_count": null,
   "metadata": {},
   "outputs": [],
   "source": [
    "myList = ['Pedro','Chris','Juan','Maria']\n",
    "myList.pop()\n",
    "print(myList) # Output ['Pedro','Chris','Juan']"
   ]
  },
  {
   "cell_type": "markdown",
   "metadata": {},
   "source": [
    "### Using Remove\n",
    "\n",
    "It will let you remove the first occurence of an element by its name."
   ]
  },
  {
   "cell_type": "code",
   "execution_count": null,
   "metadata": {},
   "outputs": [],
   "source": [
    "# If you want to delete 'Chris', you need to do the following: \n",
    "myList = ['Pedro','Chris','Juan','Maria','Chris']\n",
    "myList.remove('Chris')\n",
    "print(myList) # Output ['Pedro','Juan','Maria','Chris'];"
   ]
  },
  {
   "cell_type": "markdown",
   "metadata": {},
   "source": [
    "### Using Delete\n",
    "\n",
    "It will allow you to delete many items at once, you have to specify starting possition and ending possition.\n"
   ]
  },
  {
   "cell_type": "code",
   "execution_count": null,
   "metadata": {},
   "outputs": [],
   "source": [
    "    # If you want to delete 'Chris', you need to do the following: \n",
    "    myList = ['Pedro','Chris','Juan','Maria','Pepe','Mario','Bob']\n",
    "    del myList[2:5] #this statement deletes the characters at indexes 2, 3 and 4\n",
    "    print(myList) # Output ['Pedro', 'Chris', 'Mario', 'Bob']"
   ]
  },
  {
   "cell_type": "markdown",
   "metadata": {},
   "source": [
    "## Looping a List\n",
    "\n",
    "\n",
    "Normally, when you manipulate lists, you have to loop all the items. For example: order them manually, flip them, filter them, etc.\n",
    "There are many ways you can loop an entire list but the most used one is the `for`  loop."
   ]
  },
  {
   "cell_type": "code",
   "execution_count": null,
   "metadata": {},
   "outputs": [],
   "source": [
    "myList = [3423,5,4,47889,654,8,867543,23,48,56432,55,23,25,12]\n",
    "for number in myList:\n",
    "    print(number)"
   ]
  },
  {
   "cell_type": "markdown",
   "metadata": {},
   "source": [
    "## Looping using a position \n",
    "\n",
    "Sometimes it is useful to loop the array using each element's position (index). We can do that by using the `range()` function.\n",
    "By default the `range` will start from index zero and continue until a specified number is reached, not including that index number:"
   ]
  },
  {
   "cell_type": "code",
   "execution_count": null,
   "metadata": {},
   "outputs": [],
   "source": [
    "myList = ['Pedro','Chris','Mario','Bob']\n",
    "\n",
    "# the range will cut off before len(myList) is reached, and therefore we don't need to write (len(myList)-1)\n",
    "for i in range(len(myList)): \n",
    "    print(\"The positions is \" + str(i) + \" for the element \" + myList[i])"
   ]
  },
  {
   "cell_type": "markdown",
   "metadata": {},
   "source": [
    "It is also possible to specify the starting index in the range, as well as the increment, by adding a starting point (the first parameter), and an increment value (the last parameter) in the range method:"
   ]
  },
  {
   "cell_type": "code",
   "execution_count": null,
   "metadata": {},
   "outputs": [],
   "source": [
    "myList = ['Pedro','Chris','Mario','Bob', \"Greg\", \"Kyle\"]\n",
    "\n",
    "for i in range(1, 6, 2): # range(start value, end value (non inclusive), increment value)\n",
    "    print(\"The positions is \" + str(i) + \" for the element \" + myList[i])"
   ]
  }
 ],
 "metadata": {
  "interpreter": {
   "hash": "8b8334dab9339717f727a1deaf837b322d7a41c20d15cc86be99a8e69ceec8ce"
  },
  "kernelspec": {
   "display_name": "Python 3.8.12 64-bit ('3.8.12': pyenv)",
   "name": "python3"
  },
  "language_info": {
   "name": "python",
   "version": "3.8.12"
  },
  "orig_nbformat": 4
 },
 "nbformat": 4,
 "nbformat_minor": 2
}
