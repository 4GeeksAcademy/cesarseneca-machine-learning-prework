{
 "cells": [
  {
   "cell_type": "markdown",
   "metadata": {},
   "source": [
    "# Python Exercises\n",
    "\n",
    "The python exercises are meant to be done in the following order:\n",
    "\n",
    "| Exercise name         | Description                   | Start in Gitpod    |\n",
    "| --------------------- | ----------------------------- |  ----------------- | \n",
    "| Python Introduction   | From beginner to intermediate | [start in gitpod](https://github.com/4GeeksAcademy/python-beginner-programming-exercises) |\n",
    "| Looping in Python     | Use lists and touples         | [start in gitpod](https://gitpod.io#https://github.com/4GeeksAcademy/python-lists-loops-programming-exercises) |\n",
    "| Using functions       | Declare and call functions    | [start in gitpod](https://gitpod.io#https://github.com/4GeeksAcademy/python-functions-programming-exercises) |"
   ]
  }
 ],
 "metadata": {
  "language_info": {
   "name": "python"
  },
  "orig_nbformat": 4
 },
 "nbformat": 4,
 "nbformat_minor": 2
}
