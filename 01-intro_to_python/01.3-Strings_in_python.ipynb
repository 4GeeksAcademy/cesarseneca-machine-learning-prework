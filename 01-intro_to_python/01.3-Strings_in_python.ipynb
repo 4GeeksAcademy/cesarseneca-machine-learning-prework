{
 "cells": [
  {
   "cell_type": "markdown",
   "metadata": {},
   "source": [
    "# What is a string?\n",
    "\n",
    "A bunch of letters and characters all together in a particular order, the only way to store any characters that are not a number, are a fundamental part of every major program.\n",
    "\n",
    "Strings are also part of the most primitive or basic set of data-types: \n",
    "\n",
    "| Type      | Example           | Representation                |\n",
    "| ---       | ---               | ---                           |\n",
    "| String    | `\"Hello World\"`   | str                           | just characters in a sequence                                 |\n",
    "| Number    | `23.34`           | int, float, complex           | just numbers                                                  |\n",
    "| Sequence  | `[2,3,1,56,4.34]` | list, tuple, range            | Iterable list of values with numerical indexes for positions  |\n",
    "| Set       | `{'1,'2','45'}`   | set, frozenset                | Like Sequence but unordered and with duplicate elements       |\n",
    "| Mapping   | `{\"name\": \"Bob\"}` | dict                          | Like Sequence but indexes are characters intead of incremental numbers |\n",
    "| Boolean   | `True` or `False` | bool                          | just True or False |\n",
    "| Binary    | `01001010111`     | bytes, bytearray, memoryview  | Ideal for low level operations                                |\n",
    "\n",
    "## How to create a string\n",
    "\n",
    "To create a string in python just put a bunch of characters within quotes like this `\"hello\"` or even like this `\"23232\"`."
   ]
  },
  {
   "cell_type": "code",
   "execution_count": null,
   "metadata": {},
   "outputs": [],
   "source": [
    "name = \"Bob\"\n",
    "age = \"23\" # <--- this is still a string (it's within quotes)"
   ]
  },
  {
   "cell_type": "markdown",
   "metadata": {},
   "source": [
    "When coding a web application, everything the user types in forms it's considered a `string`, even if the user types the number `2` (two) it will still be considered the string `\"2\"`  and not a real number, the developer will have to explicitely convert or parse that string into a number using the function `int()`  or `float()`.\n",
    "\n",
    "[[info]]\n",
    "|:link: How to [convert strings into integers with python](https://guide.freecodecamp.org/python/how-to-convert-strings-into-integers-in-python/) (3 min read).\n",
    "\n",
    "The most common use for a string is printing it using the function `print`"
   ]
  },
  {
   "cell_type": "code",
   "execution_count": null,
   "metadata": {},
   "outputs": [],
   "source": [
    "print(\"Hello World!\")\n",
    "# The function print() receives a string and displays it on the command line/terminal."
   ]
  },
  {
   "cell_type": "markdown",
   "metadata": {},
   "source": [
    "\n",
    "## How do we use strings?\n",
    "\n",
    "### String concatenation (summing strings)\n",
    "\n",
    "Python allows to sum together strings using the plus `+` operator. The following fragment demonstrates how to add two strings to create a **full name** from **first** and **last names**."
   ]
  },
  {
   "cell_type": "code",
   "execution_count": null,
   "metadata": {},
   "outputs": [],
   "source": [
    "first_name = \"Alejandro\"\n",
    "last_name = \"Sanchez\"\n",
    "full_name = first_name + \" \" + last_name\n",
    "print(\"My name is \"+full_name)"
   ]
  },
  {
   "cell_type": "markdown",
   "metadata": {},
   "source": [
    "\n",
    "In this example `\"My name is \"` it's being concatenated with the value on the variable `full_name`.\n",
    "\n",
    "### The length of the string\n",
    "\n",
    "You often want to know what the length (size) of a string is, for example: Twitter does not allow tweets with more than 240 characters."
   ]
  },
  {
   "cell_type": "code",
   "execution_count": null,
   "metadata": {},
   "outputs": [],
   "source": [
    "tweet = \"Good morning!\"\n",
    "print(\"The variable tweet contains \"+str(len(tweet))+\" characters\")"
   ]
  },
  {
   "cell_type": "markdown",
   "metadata": {},
   "source": [
    "### Extracting characters\n",
    "\n",
    "After we also need to know the value of the string in a particular position, for example: If a string ends with a question mark it's probably a question:"
   ]
  },
  {
   "cell_type": "code",
   "execution_count": null,
   "metadata": {},
   "outputs": [],
   "source": [
    "question = \"How are you?\"\n",
    "size = len(question)\n",
    "print(\"The strings start with \" + question[0])\n",
    "# Output: The strings start with H\n",
    "print(\"The strings ends with \" + question[size - 1])\n",
    "# Output: The strings ends with ?"
   ]
  },
  {
   "cell_type": "markdown",
   "metadata": {},
   "source": [
    "[[info]]\n",
    "| :point_up: This method of character extraction on strings is very similar to the one used on lists to extract an element from a particular position in the list.   \n",
    "\n",
    "You can also extract several characters at once. The range of the method starts with the index of the first character to be extracted and ends with the index AFTER the last character to be extracted:"
   ]
  },
  {
   "cell_type": "code",
   "execution_count": null,
   "metadata": {},
   "outputs": [],
   "source": [
    "name = \"My name is Alejandro Sanchez\"\n",
    "print(\"Extracted \" + name[11:20])\n",
    "# Output: Extracted Alejandro\n",
    "\n",
    "print(\"Extracted \" + name[11:])\n",
    "# Output: Extracted Alejandro Sanchez\n",
    "\n",
    "print(\"Extracted \" + nombre[:10])\n",
    "# Output: Extracted My name is "
   ]
  },
  {
   "cell_type": "markdown",
   "metadata": {},
   "source": [
    "### Comparing strings\n",
    "\n",
    "If you want to compare two strings you can use the `==`  (double equal) and it will return `True`  if the strings are EXACTLY the same, string comparison is case sensitive, \"Bob\" is not equal to \"bob\"."
   ]
  },
  {
   "cell_type": "code",
   "execution_count": null,
   "metadata": {},
   "outputs": [],
   "source": [
    "name1 = \"pepe\";\n",
    "name2 = \"juan\";\n",
    "if name1 == name2:\n",
    "    print(\"This is False, I will not get printed\")\n",
    "if name1 == \"pepe\":\n",
    "    print(\"This is True, I will get printed\")\n",
    "if name1 != name2:\n",
    "    print(\"This is True, I will get printed\")"
   ]
  },
  {
   "cell_type": "markdown",
   "metadata": {},
   "source": [
    "### Converting to lower or upper case."
   ]
  },
  {
   "cell_type": "code",
   "execution_count": null,
   "metadata": {},
   "outputs": [],
   "source": [
    "lowercased_string = name1.lower() # will convert to lowercase\n",
    "uppercased_string = name2.upper() # will convert to uppercase"
   ]
  },
  {
   "cell_type": "markdown",
   "metadata": {},
   "source": [
    "[[info]]\n",
    "| :point_up: it is good practice to always lowercase strings before comparing them with others, that way we will avoid missing case sensitive differences.\n",
    "\n",
    "### Convert strings to numbers (and vice versa)"
   ]
  },
  {
   "cell_type": "code",
   "execution_count": null,
   "metadata": {},
   "outputs": [],
   "source": [
    "number = 3.4 # I am a number\n",
    "number_as_string = str(number) # I am a string with value \"3.4\""
   ]
  },
  {
   "cell_type": "markdown",
   "metadata": {},
   "source": [
    "### More information about strings\n",
    "\n",
    "If you want to learn more, we suggest you start practicing instead of reading because there is nothing much to read about strings, here is a small 3 min [video explaining strings](https://www.youtube.com/watch?v=iAzShkKzpJo). \n",
    "\n",
    "Keep practicing!"
   ]
  }
 ],
 "metadata": {
  "interpreter": {
   "hash": "8b8334dab9339717f727a1deaf837b322d7a41c20d15cc86be99a8e69ceec8ce"
  },
  "kernelspec": {
   "display_name": "Python 3.8.12 64-bit ('3.8.12': pyenv)",
   "name": "python3"
  },
  "language_info": {
   "name": "python",
   "version": "3.8.12"
  },
  "orig_nbformat": 4
 },
 "nbformat": 4,
 "nbformat_minor": 2
}
